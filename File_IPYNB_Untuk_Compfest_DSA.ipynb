{
  "nbformat": 4,
  "nbformat_minor": 0,
  "metadata": {
    "colab": {
      "name": "File IPYNB Untuk Compfest DSA.ipynb",
      "provenance": [],
      "collapsed_sections": []
    },
    "kernelspec": {
      "display_name": "Python 3",
      "name": "python3"
    },
    "language_info": {
      "name": "python"
    }
  },
  "cells": [
    {
      "cell_type": "code",
      "metadata": {
        "id": "m2aAeIyCGs25"
      },
      "source": [
        "import pandas as pd"
      ],
      "execution_count": 1,
      "outputs": []
    },
    {
      "cell_type": "code",
      "metadata": {
        "id": "W4KIGZkZG6fR"
      },
      "source": [
        "data= pd.read_excel('/content/DailyUpdateDataAgregatCovid-19Jakarta.xlsx', sheet_name='Data Jakarta')"
      ],
      "execution_count": 2,
      "outputs": []
    },
    {
      "cell_type": "code",
      "metadata": {
        "colab": {
          "base_uri": "https://localhost:8080/",
          "height": 445
        },
        "id": "ett0EcAXzmun",
        "outputId": "eadcbb19-ebd6-4075-e605-faf6375b2ce5"
      },
      "source": [
        "data.head()"
      ],
      "execution_count": 3,
      "outputs": [
        {
          "output_type": "execute_result",
          "data": {
            "text/html": [
              "<div>\n",
              "<style scoped>\n",
              "    .dataframe tbody tr th:only-of-type {\n",
              "        vertical-align: middle;\n",
              "    }\n",
              "\n",
              "    .dataframe tbody tr th {\n",
              "        vertical-align: top;\n",
              "    }\n",
              "\n",
              "    .dataframe thead th {\n",
              "        text-align: right;\n",
              "    }\n",
              "</style>\n",
              "<table border=\"1\" class=\"dataframe\">\n",
              "  <thead>\n",
              "    <tr style=\"text-align: right;\">\n",
              "      <th></th>\n",
              "      <th>Tanggal</th>\n",
              "      <th>Jam</th>\n",
              "      <th>Tanggal Jam</th>\n",
              "      <th>Total Pasien</th>\n",
              "      <th>Sembuh</th>\n",
              "      <th>Meninggal</th>\n",
              "      <th>Self Isolation</th>\n",
              "      <th>Masih Perawatan</th>\n",
              "      <th>Belum Diketahui (masih verifikasi)</th>\n",
              "      <th>Menunggu Hasil</th>\n",
              "      <th>Tenaga Kesehatan Terinfeksi</th>\n",
              "      <th>Positif Harian</th>\n",
              "      <th>Positif Aktif</th>\n",
              "      <th>Sembuh Harian</th>\n",
              "      <th>Tanpa Gejala</th>\n",
              "      <th>Bergejala</th>\n",
              "      <th>Belum Ada Data</th>\n",
              "    </tr>\n",
              "  </thead>\n",
              "  <tbody>\n",
              "    <tr>\n",
              "      <th>0</th>\n",
              "      <td>2020-03-01</td>\n",
              "      <td>NaN</td>\n",
              "      <td>2020-03-01 18:00:00</td>\n",
              "      <td>0</td>\n",
              "      <td>0</td>\n",
              "      <td>0</td>\n",
              "      <td>0</td>\n",
              "      <td>0</td>\n",
              "      <td>NaN</td>\n",
              "      <td>NaN</td>\n",
              "      <td>NaN</td>\n",
              "      <td>0</td>\n",
              "      <td>0</td>\n",
              "      <td>0</td>\n",
              "      <td>NaN</td>\n",
              "      <td>NaN</td>\n",
              "      <td>NaN</td>\n",
              "    </tr>\n",
              "    <tr>\n",
              "      <th>1</th>\n",
              "      <td>2020-03-02</td>\n",
              "      <td>NaN</td>\n",
              "      <td>2020-03-02 18:00:00</td>\n",
              "      <td>0</td>\n",
              "      <td>0</td>\n",
              "      <td>0</td>\n",
              "      <td>0</td>\n",
              "      <td>0</td>\n",
              "      <td>NaN</td>\n",
              "      <td>NaN</td>\n",
              "      <td>NaN</td>\n",
              "      <td>0</td>\n",
              "      <td>0</td>\n",
              "      <td>0</td>\n",
              "      <td>NaN</td>\n",
              "      <td>NaN</td>\n",
              "      <td>NaN</td>\n",
              "    </tr>\n",
              "    <tr>\n",
              "      <th>2</th>\n",
              "      <td>2020-03-03</td>\n",
              "      <td>NaN</td>\n",
              "      <td>2020-03-03 18:00:00</td>\n",
              "      <td>3</td>\n",
              "      <td>0</td>\n",
              "      <td>1</td>\n",
              "      <td>0</td>\n",
              "      <td>2</td>\n",
              "      <td>NaN</td>\n",
              "      <td>NaN</td>\n",
              "      <td>NaN</td>\n",
              "      <td>3</td>\n",
              "      <td>2</td>\n",
              "      <td>0</td>\n",
              "      <td>NaN</td>\n",
              "      <td>NaN</td>\n",
              "      <td>NaN</td>\n",
              "    </tr>\n",
              "    <tr>\n",
              "      <th>3</th>\n",
              "      <td>2020-03-04</td>\n",
              "      <td>NaN</td>\n",
              "      <td>2020-03-04 18:00:00</td>\n",
              "      <td>3</td>\n",
              "      <td>0</td>\n",
              "      <td>1</td>\n",
              "      <td>0</td>\n",
              "      <td>2</td>\n",
              "      <td>NaN</td>\n",
              "      <td>NaN</td>\n",
              "      <td>NaN</td>\n",
              "      <td>0</td>\n",
              "      <td>2</td>\n",
              "      <td>0</td>\n",
              "      <td>NaN</td>\n",
              "      <td>NaN</td>\n",
              "      <td>NaN</td>\n",
              "    </tr>\n",
              "    <tr>\n",
              "      <th>4</th>\n",
              "      <td>2020-03-05</td>\n",
              "      <td>NaN</td>\n",
              "      <td>2020-03-05 18:00:00</td>\n",
              "      <td>7</td>\n",
              "      <td>0</td>\n",
              "      <td>3</td>\n",
              "      <td>0</td>\n",
              "      <td>4</td>\n",
              "      <td>NaN</td>\n",
              "      <td>NaN</td>\n",
              "      <td>NaN</td>\n",
              "      <td>4</td>\n",
              "      <td>4</td>\n",
              "      <td>0</td>\n",
              "      <td>NaN</td>\n",
              "      <td>NaN</td>\n",
              "      <td>NaN</td>\n",
              "    </tr>\n",
              "  </tbody>\n",
              "</table>\n",
              "</div>"
            ],
            "text/plain": [
              "     Tanggal  Jam         Tanggal Jam  ...  Tanpa Gejala  Bergejala  Belum Ada Data\n",
              "0 2020-03-01  NaN 2020-03-01 18:00:00  ...           NaN        NaN             NaN\n",
              "1 2020-03-02  NaN 2020-03-02 18:00:00  ...           NaN        NaN             NaN\n",
              "2 2020-03-03  NaN 2020-03-03 18:00:00  ...           NaN        NaN             NaN\n",
              "3 2020-03-04  NaN 2020-03-04 18:00:00  ...           NaN        NaN             NaN\n",
              "4 2020-03-05  NaN 2020-03-05 18:00:00  ...           NaN        NaN             NaN\n",
              "\n",
              "[5 rows x 17 columns]"
            ]
          },
          "metadata": {
            "tags": []
          },
          "execution_count": 3
        }
      ]
    },
    {
      "cell_type": "code",
      "metadata": {
        "colab": {
          "base_uri": "https://localhost:8080/"
        },
        "id": "1uem6hBJmaXF",
        "outputId": "7b3d67c5-7eb4-40a3-b1a1-9424485203e4"
      },
      "source": [
        "if pd.to_datetime(data['Tanggal'], format='%b-%d-%Y', errors='coerce').notnull().all():\n",
        "    print('Yay') "
      ],
      "execution_count": 4,
      "outputs": [
        {
          "output_type": "stream",
          "text": [
            "Yay\n"
          ],
          "name": "stdout"
        }
      ]
    },
    {
      "cell_type": "code",
      "metadata": {
        "id": "3eWeHQDFWyUa"
      },
      "source": [
        "def outlier(series):\n",
        "    Q1, Q3 = series.quantile(0.25), series.quantile(0.75)\n",
        "    IQR = Q3 - Q1\n",
        "    lower_range = Q1 - (1.5 * IQR)\n",
        "    upper_range = Q3 + (1.5 * IQR)\n",
        "    return lower_range,upper_range"
      ],
      "execution_count": 5,
      "outputs": []
    },
    {
      "cell_type": "code",
      "metadata": {
        "id": "CIaLAhEEW7RS"
      },
      "source": [
        "data.drop(data.columns[17:], axis = 1, inplace=True)\n",
        "data.set_index('Tanggal', inplace=True)"
      ],
      "execution_count": 6,
      "outputs": []
    },
    {
      "cell_type": "code",
      "metadata": {
        "id": "Nb2rELFJsydG"
      },
      "source": [
        "data.drop(['Belum Diketahui (masih verifikasi)', 'Menunggu Hasil', 'Tenaga Kesehatan Terinfeksi'], axis = 1, inplace=True)"
      ],
      "execution_count": 7,
      "outputs": []
    },
    {
      "cell_type": "code",
      "metadata": {
        "id": "Op2fnAO10XTs"
      },
      "source": [
        "data['Meninggal Harian'] = pd.Series([0]+[data['Meninggal'].iloc[i] - data['Meninggal'].iloc[i-1] for i in range(1, data.shape[0])], index=data.index)\n",
        "data['Total Pasien Harian'] = pd.Series([0]+[data['Total Pasien'].iloc[i] - data['Total Pasien'].iloc[i-1] for i in range(1, data.shape[0])], index=data.index)\n",
        "data['Self Isolation Harian'] = pd.Series([0]+[data['Self Isolation'].iloc[i] - data['Self Isolation'].iloc[i-1] for i in range(1, data.shape[0])], index=data.index)"
      ],
      "execution_count": 8,
      "outputs": []
    },
    {
      "cell_type": "code",
      "metadata": {
        "id": "e8bwSNQS2WJc"
      },
      "source": [
        "data['Masih Perawatan Harian'] = pd.Series([0]+[data['Masih Perawatan'].iloc[i] - data['Masih Perawatan'].iloc[i-1] for i in range(1, data.shape[0])], index=data.index)"
      ],
      "execution_count": 9,
      "outputs": []
    },
    {
      "cell_type": "code",
      "metadata": {
        "id": "xiDa6bRQ1U43"
      },
      "source": [
        "data_harian = data[['Jam', 'Total Pasien Harian', 'Sembuh Harian', 'Meninggal Harian', 'Self Isolation Harian', 'Masih Perawatan Harian', 'Positif Harian']].copy()"
      ],
      "execution_count": 10,
      "outputs": []
    },
    {
      "cell_type": "code",
      "metadata": {
        "colab": {
          "base_uri": "https://localhost:8080/",
          "height": 337
        },
        "id": "zxev4mhH2mAA",
        "outputId": "767c0642-6450-4e04-ab76-2d862dad399d"
      },
      "source": [
        "data_harian.head()"
      ],
      "execution_count": 11,
      "outputs": [
        {
          "output_type": "execute_result",
          "data": {
            "text/html": [
              "<div>\n",
              "<style scoped>\n",
              "    .dataframe tbody tr th:only-of-type {\n",
              "        vertical-align: middle;\n",
              "    }\n",
              "\n",
              "    .dataframe tbody tr th {\n",
              "        vertical-align: top;\n",
              "    }\n",
              "\n",
              "    .dataframe thead th {\n",
              "        text-align: right;\n",
              "    }\n",
              "</style>\n",
              "<table border=\"1\" class=\"dataframe\">\n",
              "  <thead>\n",
              "    <tr style=\"text-align: right;\">\n",
              "      <th></th>\n",
              "      <th>Jam</th>\n",
              "      <th>Total Pasien Harian</th>\n",
              "      <th>Sembuh Harian</th>\n",
              "      <th>Meninggal Harian</th>\n",
              "      <th>Self Isolation Harian</th>\n",
              "      <th>Masih Perawatan Harian</th>\n",
              "      <th>Positif Harian</th>\n",
              "    </tr>\n",
              "    <tr>\n",
              "      <th>Tanggal</th>\n",
              "      <th></th>\n",
              "      <th></th>\n",
              "      <th></th>\n",
              "      <th></th>\n",
              "      <th></th>\n",
              "      <th></th>\n",
              "      <th></th>\n",
              "    </tr>\n",
              "  </thead>\n",
              "  <tbody>\n",
              "    <tr>\n",
              "      <th>2020-03-01</th>\n",
              "      <td>NaN</td>\n",
              "      <td>0</td>\n",
              "      <td>0</td>\n",
              "      <td>0</td>\n",
              "      <td>0</td>\n",
              "      <td>0</td>\n",
              "      <td>0</td>\n",
              "    </tr>\n",
              "    <tr>\n",
              "      <th>2020-03-02</th>\n",
              "      <td>NaN</td>\n",
              "      <td>0</td>\n",
              "      <td>0</td>\n",
              "      <td>0</td>\n",
              "      <td>0</td>\n",
              "      <td>0</td>\n",
              "      <td>0</td>\n",
              "    </tr>\n",
              "    <tr>\n",
              "      <th>2020-03-03</th>\n",
              "      <td>NaN</td>\n",
              "      <td>3</td>\n",
              "      <td>0</td>\n",
              "      <td>1</td>\n",
              "      <td>0</td>\n",
              "      <td>2</td>\n",
              "      <td>3</td>\n",
              "    </tr>\n",
              "    <tr>\n",
              "      <th>2020-03-04</th>\n",
              "      <td>NaN</td>\n",
              "      <td>0</td>\n",
              "      <td>0</td>\n",
              "      <td>0</td>\n",
              "      <td>0</td>\n",
              "      <td>0</td>\n",
              "      <td>0</td>\n",
              "    </tr>\n",
              "    <tr>\n",
              "      <th>2020-03-05</th>\n",
              "      <td>NaN</td>\n",
              "      <td>4</td>\n",
              "      <td>0</td>\n",
              "      <td>2</td>\n",
              "      <td>0</td>\n",
              "      <td>2</td>\n",
              "      <td>4</td>\n",
              "    </tr>\n",
              "  </tbody>\n",
              "</table>\n",
              "</div>"
            ],
            "text/plain": [
              "            Jam  Total Pasien Harian  ...  Masih Perawatan Harian  Positif Harian\n",
              "Tanggal                               ...                                        \n",
              "2020-03-01  NaN                    0  ...                       0               0\n",
              "2020-03-02  NaN                    0  ...                       0               0\n",
              "2020-03-03  NaN                    3  ...                       2               3\n",
              "2020-03-04  NaN                    0  ...                       0               0\n",
              "2020-03-05  NaN                    4  ...                       2               4\n",
              "\n",
              "[5 rows x 7 columns]"
            ]
          },
          "metadata": {
            "tags": []
          },
          "execution_count": 11
        }
      ]
    },
    {
      "cell_type": "code",
      "metadata": {
        "colab": {
          "base_uri": "https://localhost:8080/",
          "height": 97
        },
        "id": "IYR7eRD23KiS",
        "outputId": "474ff65b-8558-441c-ab5e-ad79afee7227"
      },
      "source": [
        "data_harian.loc[data_harian['Self Isolation Harian'] == 7505]"
      ],
      "execution_count": 12,
      "outputs": [
        {
          "output_type": "execute_result",
          "data": {
            "text/html": [
              "<div>\n",
              "<style scoped>\n",
              "    .dataframe tbody tr th:only-of-type {\n",
              "        vertical-align: middle;\n",
              "    }\n",
              "\n",
              "    .dataframe tbody tr th {\n",
              "        vertical-align: top;\n",
              "    }\n",
              "\n",
              "    .dataframe thead th {\n",
              "        text-align: right;\n",
              "    }\n",
              "</style>\n",
              "<table border=\"1\" class=\"dataframe\">\n",
              "  <thead>\n",
              "    <tr style=\"text-align: right;\">\n",
              "      <th></th>\n",
              "      <th>Jam</th>\n",
              "      <th>Total Pasien Harian</th>\n",
              "      <th>Sembuh Harian</th>\n",
              "      <th>Meninggal Harian</th>\n",
              "      <th>Self Isolation Harian</th>\n",
              "      <th>Masih Perawatan Harian</th>\n",
              "      <th>Positif Harian</th>\n",
              "    </tr>\n",
              "    <tr>\n",
              "      <th>Tanggal</th>\n",
              "      <th></th>\n",
              "      <th></th>\n",
              "      <th></th>\n",
              "      <th></th>\n",
              "      <th></th>\n",
              "      <th></th>\n",
              "      <th></th>\n",
              "    </tr>\n",
              "  </thead>\n",
              "  <tbody>\n",
              "  </tbody>\n",
              "</table>\n",
              "</div>"
            ],
            "text/plain": [
              "Empty DataFrame\n",
              "Columns: [Jam, Total Pasien Harian, Sembuh Harian, Meninggal Harian, Self Isolation Harian, Masih Perawatan Harian, Positif Harian]\n",
              "Index: []"
            ]
          },
          "metadata": {
            "tags": []
          },
          "execution_count": 12
        }
      ]
    },
    {
      "cell_type": "code",
      "metadata": {
        "colab": {
          "base_uri": "https://localhost:8080/"
        },
        "id": "WqE0Z0RMVlT8",
        "outputId": "611e3950-ca8a-4f6a-f8c0-99f40458dcf5"
      },
      "source": [
        "for column in data_harian.columns:\n",
        "    if (data_harian[column].dtype != 'datetime64[ns]'):\n",
        "      lower, upper = outlier(data_harian[column])\n",
        "      print(f'Outlier adalah {lower} dan {upper}')\n",
        "      print(f'Outlier pada kolom {column} adalah {sorted(list(data_harian.loc[(data_harian[column] < lower) | (data_harian[column] > upper)][column]))}')"
      ],
      "execution_count": 13,
      "outputs": [
        {
          "output_type": "stream",
          "text": [
            "Outlier adalah 8.0 dan 8.0\n",
            "Outlier pada kolom Jam adalah [18.0, 18.0, 18.0, 18.0, 18.0, 18.0, 18.0, 18.0, 18.0, 18.0, 18.0, 18.0, 18.0, 18.0, 18.0, 18.0, 18.0, 18.0]\n",
            "Outlier adalah -1553.75 dan 3116.25\n",
            "Outlier pada kolom Total Pasien Harian adalah [3144, 3151, 3165, 3221, 3285, 3309, 3340, 3362, 3395, 3437, 3448, 3474, 3476, 3491, 3512, 3536, 3567, 3614, 3632, 3786, 3792, 3810, 4144, 4213, 4693, 4737, 4895, 5014, 5582, 6934, 7379, 7505, 7680, 8348, 9271, 9394]\n",
            "Outlier adalah -1474.5 dan 2857.5\n",
            "Outlier pada kolom Sembuh Harian adalah [2939, 2960, 2963, 2971, 3025, 3052, 3244, 3255, 3416, 3438, 3484, 3504, 3504, 3568, 3674, 3771, 4005, 4313, 4325, 4342, 4345, 4349, 4527, 4610, 5757]\n",
            "Outlier adalah -18.0 dan 46.0\n",
            "Outlier pada kolom Meninggal Harian adalah [47, 48, 48, 49, 50, 50, 50, 50, 51, 51, 52, 53, 54, 59, 60, 63, 64, 69, 70, 70, 71, 78, 79]\n",
            "Outlier adalah -499.75 dan 610.25\n",
            "Outlier pada kolom Self Isolation Harian adalah [-3345, -2557, -1866, -1815, -1498, -1444, -1400, -1367, -1330, -1267, -1130, -1118, -950, -933, -904, -899, -819, -783, -783, -668, -638, -627, -615, -607, -575, -563, -532, -509, 616, 654, 687, 707, 719, 759, 772, 777, 786, 790, 843, 871, 897, 905, 908, 928, 1050, 1105, 1158, 1179, 1206, 1299, 1499, 1612, 1701, 1785, 1836, 1897, 1971, 2318, 2325, 2922, 2938, 3252, 3535, 3788, 4504, 4635]\n",
            "Outlier adalah -347.75 dan 402.25\n",
            "Outlier pada kolom Masih Perawatan Harian adalah [-1271, -1232, -1228, -1190, -952, -917, -901, -707, -682, -673, -660, -647, -593, -560, -514, -486, -458, -455, -440, -428, -419, -415, -407, -395, -374, -374, -365, -350, 405, 410, 424, 437, 441, 446, 478, 485, 491, 498, 526, 528, 545, 595, 600, 611, 614, 641, 690, 709, 712, 765, 817, 859, 1001, 1043, 1043, 1054, 1192, 1226, 1348, 1372, 1397, 1519, 1791, 1813, 1999]\n",
            "Outlier adalah -1553.75 dan 3116.25\n",
            "Outlier pada kolom Positif Harian adalah [3144, 3151, 3165, 3221, 3285, 3309, 3340, 3362, 3395, 3437, 3448, 3474, 3476, 3491, 3512, 3536, 3567, 3614, 3632, 3786, 3792, 3810, 4144, 4213, 4693, 4737, 4895, 5014, 5582, 6934, 7379, 7505, 7680, 8348, 9271, 9394]\n"
          ],
          "name": "stdout"
        }
      ]
    },
    {
      "cell_type": "code",
      "metadata": {
        "id": "Dk07J60QUwPU"
      },
      "source": [
        "# outliers = {}\n",
        "# for column in data.columns:\n",
        "#     if (data[column].dtype != 'datetime64[ns]'):\n",
        "#       for i in range(data.resample('M').sum().shape[0]):\n",
        "#         bulan = ((i+3)%12) if ((i+3)%12) > 0 else 12\n",
        "#         year = 2020+((i+3)//12)\n",
        "#         lower, upper = outlier(data.loc[(data.index.month == bulan) & (data.index.year == year)][column])\n",
        "#         # print(((i+3)%12))\n",
        "#         # print(2020+((i+3)//12))\n",
        "#         outliers[column,bulan, year] = list(data.loc[((data[column] < lower) | (data[column] > upper)) & ((data.index.month == bulan) & (data.index.year == year))][column])\n",
        "#         print(f'Outlier adalah {lower} dan {upper}')\n",
        "#         print(f'Outlier bulan {bulan} tahun {year} pada kolom {column} adalah {list(data.loc[((data[column] < lower) | (data[column] > upper)) & ((data.index.month == bulan) & (data.index.year == year))][column])}')"
      ],
      "execution_count": 14,
      "outputs": []
    },
    {
      "cell_type": "code",
      "metadata": {
        "colab": {
          "base_uri": "https://localhost:8080/"
        },
        "id": "7BHNOhQZsoJA",
        "outputId": "f7668663-61bf-4650-b599-3acb36799610"
      },
      "source": [
        "data_harian.info()"
      ],
      "execution_count": 15,
      "outputs": [
        {
          "output_type": "stream",
          "text": [
            "<class 'pandas.core.frame.DataFrame'>\n",
            "DatetimeIndex: 487 entries, 2020-03-01 to 2021-06-30\n",
            "Data columns (total 7 columns):\n",
            " #   Column                  Non-Null Count  Dtype  \n",
            "---  ------                  --------------  -----  \n",
            " 0   Jam                     468 non-null    float64\n",
            " 1   Total Pasien Harian     487 non-null    int64  \n",
            " 2   Sembuh Harian           487 non-null    int64  \n",
            " 3   Meninggal Harian        487 non-null    int64  \n",
            " 4   Self Isolation Harian   487 non-null    int64  \n",
            " 5   Masih Perawatan Harian  487 non-null    int64  \n",
            " 6   Positif Harian          487 non-null    int64  \n",
            "dtypes: float64(1), int64(6)\n",
            "memory usage: 30.4 KB\n"
          ],
          "name": "stdout"
        }
      ]
    },
    {
      "cell_type": "code",
      "metadata": {
        "id": "k5DQ5CQHrNSA"
      },
      "source": [
        "agregasi = {}\n",
        "agregasi['mean'] = data_harian['Positif Harian'].mean()\n",
        "agregasi['median'] = data_harian['Positif Harian'].median()\n",
        "agregasi['modus'] = data_harian['Positif Harian'].mode()[0]\n"
      ],
      "execution_count": 16,
      "outputs": []
    },
    {
      "cell_type": "code",
      "metadata": {
        "colab": {
          "base_uri": "https://localhost:8080/"
        },
        "id": "IhR7GtdJ9Bw6",
        "outputId": "6d6cebbb-c57a-4eeb-d154-1915eda65843"
      },
      "source": [
        "agregasi['min'] = data_harian['Positif Harian'].min()\n",
        "agregasi['max'] = data_harian['Positif Harian'].max()\n",
        "agregasi"
      ],
      "execution_count": 17,
      "outputs": [
        {
          "output_type": "execute_result",
          "data": {
            "text/plain": [
              "{'max': 9394,\n",
              " 'mean': 1115.9507186858316,\n",
              " 'median': 845.0,\n",
              " 'min': 0,\n",
              " 'modus': 0}"
            ]
          },
          "metadata": {
            "tags": []
          },
          "execution_count": 17
        }
      ]
    },
    {
      "cell_type": "code",
      "metadata": {
        "colab": {
          "base_uri": "https://localhost:8080/",
          "height": 337
        },
        "id": "sPhw9ry61IZA",
        "outputId": "56189322-2ccd-4886-bd70-91ccea6565d2"
      },
      "source": [
        "data_harian.head()"
      ],
      "execution_count": 18,
      "outputs": [
        {
          "output_type": "execute_result",
          "data": {
            "text/html": [
              "<div>\n",
              "<style scoped>\n",
              "    .dataframe tbody tr th:only-of-type {\n",
              "        vertical-align: middle;\n",
              "    }\n",
              "\n",
              "    .dataframe tbody tr th {\n",
              "        vertical-align: top;\n",
              "    }\n",
              "\n",
              "    .dataframe thead th {\n",
              "        text-align: right;\n",
              "    }\n",
              "</style>\n",
              "<table border=\"1\" class=\"dataframe\">\n",
              "  <thead>\n",
              "    <tr style=\"text-align: right;\">\n",
              "      <th></th>\n",
              "      <th>Jam</th>\n",
              "      <th>Total Pasien Harian</th>\n",
              "      <th>Sembuh Harian</th>\n",
              "      <th>Meninggal Harian</th>\n",
              "      <th>Self Isolation Harian</th>\n",
              "      <th>Masih Perawatan Harian</th>\n",
              "      <th>Positif Harian</th>\n",
              "    </tr>\n",
              "    <tr>\n",
              "      <th>Tanggal</th>\n",
              "      <th></th>\n",
              "      <th></th>\n",
              "      <th></th>\n",
              "      <th></th>\n",
              "      <th></th>\n",
              "      <th></th>\n",
              "      <th></th>\n",
              "    </tr>\n",
              "  </thead>\n",
              "  <tbody>\n",
              "    <tr>\n",
              "      <th>2020-03-01</th>\n",
              "      <td>NaN</td>\n",
              "      <td>0</td>\n",
              "      <td>0</td>\n",
              "      <td>0</td>\n",
              "      <td>0</td>\n",
              "      <td>0</td>\n",
              "      <td>0</td>\n",
              "    </tr>\n",
              "    <tr>\n",
              "      <th>2020-03-02</th>\n",
              "      <td>NaN</td>\n",
              "      <td>0</td>\n",
              "      <td>0</td>\n",
              "      <td>0</td>\n",
              "      <td>0</td>\n",
              "      <td>0</td>\n",
              "      <td>0</td>\n",
              "    </tr>\n",
              "    <tr>\n",
              "      <th>2020-03-03</th>\n",
              "      <td>NaN</td>\n",
              "      <td>3</td>\n",
              "      <td>0</td>\n",
              "      <td>1</td>\n",
              "      <td>0</td>\n",
              "      <td>2</td>\n",
              "      <td>3</td>\n",
              "    </tr>\n",
              "    <tr>\n",
              "      <th>2020-03-04</th>\n",
              "      <td>NaN</td>\n",
              "      <td>0</td>\n",
              "      <td>0</td>\n",
              "      <td>0</td>\n",
              "      <td>0</td>\n",
              "      <td>0</td>\n",
              "      <td>0</td>\n",
              "    </tr>\n",
              "    <tr>\n",
              "      <th>2020-03-05</th>\n",
              "      <td>NaN</td>\n",
              "      <td>4</td>\n",
              "      <td>0</td>\n",
              "      <td>2</td>\n",
              "      <td>0</td>\n",
              "      <td>2</td>\n",
              "      <td>4</td>\n",
              "    </tr>\n",
              "  </tbody>\n",
              "</table>\n",
              "</div>"
            ],
            "text/plain": [
              "            Jam  Total Pasien Harian  ...  Masih Perawatan Harian  Positif Harian\n",
              "Tanggal                               ...                                        \n",
              "2020-03-01  NaN                    0  ...                       0               0\n",
              "2020-03-02  NaN                    0  ...                       0               0\n",
              "2020-03-03  NaN                    3  ...                       2               3\n",
              "2020-03-04  NaN                    0  ...                       0               0\n",
              "2020-03-05  NaN                    4  ...                       2               4\n",
              "\n",
              "[5 rows x 7 columns]"
            ]
          },
          "metadata": {
            "tags": []
          },
          "execution_count": 18
        }
      ]
    },
    {
      "cell_type": "code",
      "metadata": {
        "id": "knumYYxC1G-Q"
      },
      "source": [
        "data_harian['Hari'] = data_harian.index.dayofweek"
      ],
      "execution_count": 19,
      "outputs": []
    },
    {
      "cell_type": "code",
      "metadata": {
        "id": "raDJTB0I6fYT"
      },
      "source": [
        "data_harian['Hari'].replace({0 : \"Senin\", 1 : \"Selasa\", 2 : \"Rabu\", 3 : \"Kamis\", 4 : \"Jumat\", 5 : \"Sabtu\", 6 : \"Minggu\"}, inplace= True)"
      ],
      "execution_count": 20,
      "outputs": []
    },
    {
      "cell_type": "code",
      "metadata": {
        "id": "Jhl_RfDqyuwa"
      },
      "source": [
        "data['Meninggal Harian'] = pd.Series([0]+[data['Meninggal'].iloc[i] - data['Meninggal'].iloc[i-1] for i in range(1, data.shape[0])], index=data.index)"
      ],
      "execution_count": 21,
      "outputs": []
    },
    {
      "cell_type": "code",
      "metadata": {
        "colab": {
          "base_uri": "https://localhost:8080/",
          "height": 314
        },
        "id": "PHjSvLAcwI_3",
        "outputId": "2ae5c9c6-537c-42cf-aa72-09e683808414"
      },
      "source": [
        "data_harian.groupby(\"Hari\").mean()"
      ],
      "execution_count": 22,
      "outputs": [
        {
          "output_type": "execute_result",
          "data": {
            "text/html": [
              "<div>\n",
              "<style scoped>\n",
              "    .dataframe tbody tr th:only-of-type {\n",
              "        vertical-align: middle;\n",
              "    }\n",
              "\n",
              "    .dataframe tbody tr th {\n",
              "        vertical-align: top;\n",
              "    }\n",
              "\n",
              "    .dataframe thead th {\n",
              "        text-align: right;\n",
              "    }\n",
              "</style>\n",
              "<table border=\"1\" class=\"dataframe\">\n",
              "  <thead>\n",
              "    <tr style=\"text-align: right;\">\n",
              "      <th></th>\n",
              "      <th>Jam</th>\n",
              "      <th>Total Pasien Harian</th>\n",
              "      <th>Sembuh Harian</th>\n",
              "      <th>Meninggal Harian</th>\n",
              "      <th>Self Isolation Harian</th>\n",
              "      <th>Masih Perawatan Harian</th>\n",
              "      <th>Positif Harian</th>\n",
              "    </tr>\n",
              "    <tr>\n",
              "      <th>Hari</th>\n",
              "      <th></th>\n",
              "      <th></th>\n",
              "      <th></th>\n",
              "      <th></th>\n",
              "      <th></th>\n",
              "      <th></th>\n",
              "      <th></th>\n",
              "    </tr>\n",
              "  </thead>\n",
              "  <tbody>\n",
              "    <tr>\n",
              "      <th>Jumat</th>\n",
              "      <td>8.447761</td>\n",
              "      <td>1149.985507</td>\n",
              "      <td>921.521739</td>\n",
              "      <td>17.492754</td>\n",
              "      <td>107.202899</td>\n",
              "      <td>103.768116</td>\n",
              "      <td>1149.985507</td>\n",
              "    </tr>\n",
              "    <tr>\n",
              "      <th>Kamis</th>\n",
              "      <td>8.454545</td>\n",
              "      <td>1141.507246</td>\n",
              "      <td>909.405797</td>\n",
              "      <td>15.637681</td>\n",
              "      <td>97.956522</td>\n",
              "      <td>118.507246</td>\n",
              "      <td>1141.507246</td>\n",
              "    </tr>\n",
              "    <tr>\n",
              "      <th>Minggu</th>\n",
              "      <td>8.298507</td>\n",
              "      <td>1221.971429</td>\n",
              "      <td>1053.157143</td>\n",
              "      <td>17.228571</td>\n",
              "      <td>111.985714</td>\n",
              "      <td>39.600000</td>\n",
              "      <td>1221.971429</td>\n",
              "    </tr>\n",
              "    <tr>\n",
              "      <th>Rabu</th>\n",
              "      <td>8.447761</td>\n",
              "      <td>1076.528571</td>\n",
              "      <td>864.471429</td>\n",
              "      <td>17.342857</td>\n",
              "      <td>72.342857</td>\n",
              "      <td>122.371429</td>\n",
              "      <td>1076.528571</td>\n",
              "    </tr>\n",
              "    <tr>\n",
              "      <th>Sabtu</th>\n",
              "      <td>8.298507</td>\n",
              "      <td>1213.521739</td>\n",
              "      <td>1016.724638</td>\n",
              "      <td>16.884058</td>\n",
              "      <td>204.159420</td>\n",
              "      <td>-24.246377</td>\n",
              "      <td>1213.521739</td>\n",
              "    </tr>\n",
              "    <tr>\n",
              "      <th>Selasa</th>\n",
              "      <td>8.447761</td>\n",
              "      <td>913.771429</td>\n",
              "      <td>959.942857</td>\n",
              "      <td>18.557143</td>\n",
              "      <td>-28.571429</td>\n",
              "      <td>-36.157143</td>\n",
              "      <td>913.771429</td>\n",
              "    </tr>\n",
              "    <tr>\n",
              "      <th>Senin</th>\n",
              "      <td>8.298507</td>\n",
              "      <td>1096.614286</td>\n",
              "      <td>957.500000</td>\n",
              "      <td>18.800000</td>\n",
              "      <td>124.042857</td>\n",
              "      <td>-3.728571</td>\n",
              "      <td>1096.614286</td>\n",
              "    </tr>\n",
              "  </tbody>\n",
              "</table>\n",
              "</div>"
            ],
            "text/plain": [
              "             Jam  Total Pasien Harian  ...  Masih Perawatan Harian  Positif Harian\n",
              "Hari                                   ...                                        \n",
              "Jumat   8.447761          1149.985507  ...              103.768116     1149.985507\n",
              "Kamis   8.454545          1141.507246  ...              118.507246     1141.507246\n",
              "Minggu  8.298507          1221.971429  ...               39.600000     1221.971429\n",
              "Rabu    8.447761          1076.528571  ...              122.371429     1076.528571\n",
              "Sabtu   8.298507          1213.521739  ...              -24.246377     1213.521739\n",
              "Selasa  8.447761           913.771429  ...              -36.157143      913.771429\n",
              "Senin   8.298507          1096.614286  ...               -3.728571     1096.614286\n",
              "\n",
              "[7 rows x 7 columns]"
            ]
          },
          "metadata": {
            "tags": []
          },
          "execution_count": 22
        }
      ]
    },
    {
      "cell_type": "code",
      "metadata": {
        "id": "4nPKM9jn9jxm"
      },
      "source": [
        "import matplotlib.pyplot as plt\n",
        "import seaborn as sns"
      ],
      "execution_count": 23,
      "outputs": []
    },
    {
      "cell_type": "code",
      "metadata": {
        "id": "OMqtPcLUz7PK"
      },
      "source": [
        "plot_data = data_harian[['Positif Harian', 'Hari']].groupby(\"Hari\").mean()"
      ],
      "execution_count": 24,
      "outputs": []
    },
    {
      "cell_type": "code",
      "metadata": {
        "id": "cp3CpibW_qN7"
      },
      "source": [
        "day_order = [\"Senin\", \"Selasa\", \"Rabu\", \"Kamis\", \"Jumat\", \"Sabtu\", \"Minggu\"]"
      ],
      "execution_count": 25,
      "outputs": []
    },
    {
      "cell_type": "code",
      "metadata": {
        "colab": {
          "base_uri": "https://localhost:8080/",
          "height": 282
        },
        "id": "lIQJQMgt-v-T",
        "outputId": "f90cc0e5-c4a4-4e4e-b9af-9a4c6860f900"
      },
      "source": [
        "plt.plot(plot_data.loc[day_order])"
      ],
      "execution_count": 26,
      "outputs": [
        {
          "output_type": "execute_result",
          "data": {
            "text/plain": [
              "[<matplotlib.lines.Line2D at 0x7fdd72545d50>]"
            ]
          },
          "metadata": {
            "tags": []
          },
          "execution_count": 26
        },
        {
          "output_type": "display_data",
          "data": {
            "image/png": "[encoded data removed]",
            "text/plain": [
              "<Figure size 432x288 with 1 Axes>"
            ]
          },
          "metadata": {
            "tags": [],
            "needs_background": "light"
          }
        }
      ]
    },
    {
      "cell_type": "markdown",
      "metadata": {
        "id": "F4JoFnViwWEF"
      },
      "source": [
        "Kesimpulan → Artinya bahwa Sembuh harian kuat dengan positif karena jumlah pasien positif meningkat. Sehingga yang sembuh juga akan meningkat"
      ]
    },
    {
      "cell_type": "code",
      "metadata": {
        "colab": {
          "base_uri": "https://localhost:8080/"
        },
        "id": "RCHl1O0N3d9S",
        "outputId": "99640494-04d1-4bbf-abf1-5920a91506a4"
      },
      "source": [
        "data_harian.index.weekofyear % 4"
      ],
      "execution_count": 27,
      "outputs": [
        {
          "output_type": "stream",
          "text": [
            "/usr/local/lib/python3.7/dist-packages/ipykernel_launcher.py:1: FutureWarning: weekofyear and week have been deprecated, please use DatetimeIndex.isocalendar().week instead, which returns a Series.  To exactly reproduce the behavior of week and weekofyear and return an Index, you may call pd.Int64Index(idx.isocalendar().week)\n",
            "  \"\"\"Entry point for launching an IPython kernel.\n"
          ],
          "name": "stderr"
        },
        {
          "output_type": "execute_result",
          "data": {
            "text/plain": [
              "Int64Index([1, 2, 2, 2, 2, 2, 2, 2, 3, 3,\n",
              "            ...\n",
              "            1, 1, 1, 1, 1, 1, 1, 2, 2, 2],\n",
              "           dtype='int64', name='Tanggal', length=487)"
            ]
          },
          "metadata": {
            "tags": []
          },
          "execution_count": 27
        }
      ]
    },
    {
      "cell_type": "code",
      "metadata": {
        "colab": {
          "base_uri": "https://localhost:8080/"
        },
        "id": "mjLSsoubBn4F",
        "outputId": "052ba552-d9c8-4e64-bdd6-3ecdef98a0a6"
      },
      "source": [
        "data_harian.index.date"
      ],
      "execution_count": 28,
      "outputs": [
        {
          "output_type": "execute_result",
          "data": {
            "text/plain": [
              "array([datetime.date(2020, 3, 1), datetime.date(2020, 3, 2),\n",
              "       datetime.date(2020, 3, 3), datetime.date(2020, 3, 4),\n",
              "       datetime.date(2020, 3, 5), datetime.date(2020, 3, 6),\n",
              "       datetime.date(2020, 3, 7), datetime.date(2020, 3, 8),\n",
              "       datetime.date(2020, 3, 9), datetime.date(2020, 3, 10),\n",
              "       datetime.date(2020, 3, 11), datetime.date(2020, 3, 12),\n",
              "       datetime.date(2020, 3, 13), datetime.date(2020, 3, 14),\n",
              "       datetime.date(2020, 3, 15), datetime.date(2020, 3, 16),\n",
              "       datetime.date(2020, 3, 17), datetime.date(2020, 3, 18),\n",
              "       datetime.date(2020, 3, 19), datetime.date(2020, 3, 20),\n",
              "       datetime.date(2020, 3, 21), datetime.date(2020, 3, 22),\n",
              "       datetime.date(2020, 3, 23), datetime.date(2020, 3, 24),\n",
              "       datetime.date(2020, 3, 25), datetime.date(2020, 3, 26),\n",
              "       datetime.date(2020, 3, 27), datetime.date(2020, 3, 28),\n",
              "       datetime.date(2020, 3, 29), datetime.date(2020, 3, 30),\n",
              "       datetime.date(2020, 3, 31), datetime.date(2020, 4, 1),\n",
              "       datetime.date(2020, 4, 2), datetime.date(2020, 4, 3),\n",
              "       datetime.date(2020, 4, 4), datetime.date(2020, 4, 5),\n",
              "       datetime.date(2020, 4, 6), datetime.date(2020, 4, 7),\n",
              "       datetime.date(2020, 4, 8), datetime.date(2020, 4, 9),\n",
              "       datetime.date(2020, 4, 10), datetime.date(2020, 4, 11),\n",
              "       datetime.date(2020, 4, 12), datetime.date(2020, 4, 13),\n",
              "       datetime.date(2020, 4, 14), datetime.date(2020, 4, 15),\n",
              "       datetime.date(2020, 4, 16), datetime.date(2020, 4, 17),\n",
              "       datetime.date(2020, 4, 18), datetime.date(2020, 4, 19),\n",
              "       datetime.date(2020, 4, 20), datetime.date(2020, 4, 21),\n",
              "       datetime.date(2020, 4, 22), datetime.date(2020, 4, 23),\n",
              "       datetime.date(2020, 4, 24), datetime.date(2020, 4, 25),\n",
              "       datetime.date(2020, 4, 26), datetime.date(2020, 4, 27),\n",
              "       datetime.date(2020, 4, 28), datetime.date(2020, 4, 29),\n",
              "       datetime.date(2020, 4, 30), datetime.date(2020, 5, 1),\n",
              "       datetime.date(2020, 5, 2), datetime.date(2020, 5, 3),\n",
              "       datetime.date(2020, 5, 4), datetime.date(2020, 5, 5),\n",
              "       datetime.date(2020, 5, 6), datetime.date(2020, 5, 7),\n",
              "       datetime.date(2020, 5, 8), datetime.date(2020, 5, 9),\n",
              "       datetime.date(2020, 5, 10), datetime.date(2020, 5, 11),\n",
              "       datetime.date(2020, 5, 12), datetime.date(2020, 5, 13),\n",
              "       datetime.date(2020, 5, 14), datetime.date(2020, 5, 15),\n",
              "       datetime.date(2020, 5, 16), datetime.date(2020, 5, 17),\n",
              "       datetime.date(2020, 5, 18), datetime.date(2020, 5, 19),\n",
              "       datetime.date(2020, 5, 20), datetime.date(2020, 5, 21),\n",
              "       datetime.date(2020, 5, 22), datetime.date(2020, 5, 23),\n",
              "       datetime.date(2020, 5, 24), datetime.date(2020, 5, 25),\n",
              "       datetime.date(2020, 5, 26), datetime.date(2020, 5, 27),\n",
              "       datetime.date(2020, 5, 28), datetime.date(2020, 5, 29),\n",
              "       datetime.date(2020, 5, 30), datetime.date(2020, 5, 31),\n",
              "       datetime.date(2020, 6, 1), datetime.date(2020, 6, 2),\n",
              "       datetime.date(2020, 6, 3), datetime.date(2020, 6, 4),\n",
              "       datetime.date(2020, 6, 5), datetime.date(2020, 6, 6),\n",
              "       datetime.date(2020, 6, 7), datetime.date(2020, 6, 8),\n",
              "       datetime.date(2020, 6, 9), datetime.date(2020, 6, 10),\n",
              "       datetime.date(2020, 6, 11), datetime.date(2020, 6, 12),\n",
              "       datetime.date(2020, 6, 13), datetime.date(2020, 6, 14),\n",
              "       datetime.date(2020, 6, 15), datetime.date(2020, 6, 16),\n",
              "       datetime.date(2020, 6, 17), datetime.date(2020, 6, 18),\n",
              "       datetime.date(2020, 6, 19), datetime.date(2020, 6, 20),\n",
              "       datetime.date(2020, 6, 21), datetime.date(2020, 6, 22),\n",
              "       datetime.date(2020, 6, 23), datetime.date(2020, 6, 24),\n",
              "       datetime.date(2020, 6, 25), datetime.date(2020, 6, 26),\n",
              "       datetime.date(2020, 6, 27), datetime.date(2020, 6, 28),\n",
              "       datetime.date(2020, 6, 29), datetime.date(2020, 6, 30),\n",
              "       datetime.date(2020, 7, 1), datetime.date(2020, 7, 2),\n",
              "       datetime.date(2020, 7, 3), datetime.date(2020, 7, 4),\n",
              "       datetime.date(2020, 7, 5), datetime.date(2020, 7, 6),\n",
              "       datetime.date(2020, 7, 7), datetime.date(2020, 7, 8),\n",
              "       datetime.date(2020, 7, 9), datetime.date(2020, 7, 10),\n",
              "       datetime.date(2020, 7, 11), datetime.date(2020, 7, 12),\n",
              "       datetime.date(2020, 7, 13), datetime.date(2020, 7, 14),\n",
              "       datetime.date(2020, 7, 15), datetime.date(2020, 7, 16),\n",
              "       datetime.date(2020, 7, 17), datetime.date(2020, 7, 18),\n",
              "       datetime.date(2020, 7, 19), datetime.date(2020, 7, 20),\n",
              "       datetime.date(2020, 7, 21), datetime.date(2020, 7, 22),\n",
              "       datetime.date(2020, 7, 23), datetime.date(2020, 7, 24),\n",
              "       datetime.date(2020, 7, 25), datetime.date(2020, 7, 26),\n",
              "       datetime.date(2020, 7, 27), datetime.date(2020, 7, 28),\n",
              "       datetime.date(2020, 7, 29), datetime.date(2020, 7, 30),\n",
              "       datetime.date(2020, 7, 31), datetime.date(2020, 8, 1),\n",
              "       datetime.date(2020, 8, 2), datetime.date(2020, 8, 3),\n",
              "       datetime.date(2020, 8, 4), datetime.date(2020, 8, 5),\n",
              "       datetime.date(2020, 8, 6), datetime.date(2020, 8, 7),\n",
              "       datetime.date(2020, 8, 8), datetime.date(2020, 8, 9),\n",
              "       datetime.date(2020, 8, 10), datetime.date(2020, 8, 11),\n",
              "       datetime.date(2020, 8, 12), datetime.date(2020, 8, 13),\n",
              "       datetime.date(2020, 8, 14), datetime.date(2020, 8, 15),\n",
              "       datetime.date(2020, 8, 16), datetime.date(2020, 8, 17),\n",
              "       datetime.date(2020, 8, 18), datetime.date(2020, 8, 19),\n",
              "       datetime.date(2020, 8, 20), datetime.date(2020, 8, 21),\n",
              "       datetime.date(2020, 8, 22), datetime.date(2020, 8, 23),\n",
              "       datetime.date(2020, 8, 24), datetime.date(2020, 8, 25),\n",
              "       datetime.date(2020, 8, 26), datetime.date(2020, 8, 27),\n",
              "       datetime.date(2020, 8, 28), datetime.date(2020, 8, 29),\n",
              "       datetime.date(2020, 8, 30), datetime.date(2020, 8, 31),\n",
              "       datetime.date(2020, 9, 1), datetime.date(2020, 9, 2),\n",
              "       datetime.date(2020, 9, 3), datetime.date(2020, 9, 4),\n",
              "       datetime.date(2020, 9, 5), datetime.date(2020, 9, 6),\n",
              "       datetime.date(2020, 9, 7), datetime.date(2020, 9, 8),\n",
              "       datetime.date(2020, 9, 9), datetime.date(2020, 9, 10),\n",
              "       datetime.date(2020, 9, 11), datetime.date(2020, 9, 12),\n",
              "       datetime.date(2020, 9, 13), datetime.date(2020, 9, 14),\n",
              "       datetime.date(2020, 9, 15), datetime.date(2020, 9, 16),\n",
              "       datetime.date(2020, 9, 17), datetime.date(2020, 9, 18),\n",
              "       datetime.date(2020, 9, 19), datetime.date(2020, 9, 20),\n",
              "       datetime.date(2020, 9, 21), datetime.date(2020, 9, 22),\n",
              "       datetime.date(2020, 9, 23), datetime.date(2020, 9, 24),\n",
              "       datetime.date(2020, 9, 25), datetime.date(2020, 9, 26),\n",
              "       datetime.date(2020, 9, 27), datetime.date(2020, 9, 28),\n",
              "       datetime.date(2020, 9, 29), datetime.date(2020, 9, 30),\n",
              "       datetime.date(2020, 10, 1), datetime.date(2020, 10, 2),\n",
              "       datetime.date(2020, 10, 3), datetime.date(2020, 10, 4),\n",
              "       datetime.date(2020, 10, 5), datetime.date(2020, 10, 6),\n",
              "       datetime.date(2020, 10, 7), datetime.date(2020, 10, 8),\n",
              "       datetime.date(2020, 10, 9), datetime.date(2020, 10, 10),\n",
              "       datetime.date(2020, 10, 11), datetime.date(2020, 10, 12),\n",
              "       datetime.date(2020, 10, 13), datetime.date(2020, 10, 14),\n",
              "       datetime.date(2020, 10, 15), datetime.date(2020, 10, 16),\n",
              "       datetime.date(2020, 10, 17), datetime.date(2020, 10, 18),\n",
              "       datetime.date(2020, 10, 19), datetime.date(2020, 10, 20),\n",
              "       datetime.date(2020, 10, 21), datetime.date(2020, 10, 22),\n",
              "       datetime.date(2020, 10, 23), datetime.date(2020, 10, 24),\n",
              "       datetime.date(2020, 10, 25), datetime.date(2020, 10, 26),\n",
              "       datetime.date(2020, 10, 27), datetime.date(2020, 10, 28),\n",
              "       datetime.date(2020, 10, 29), datetime.date(2020, 10, 30),\n",
              "       datetime.date(2020, 10, 31), datetime.date(2020, 11, 1),\n",
              "       datetime.date(2020, 11, 2), datetime.date(2020, 11, 3),\n",
              "       datetime.date(2020, 11, 4), datetime.date(2020, 11, 5),\n",
              "       datetime.date(2020, 11, 6), datetime.date(2020, 11, 7),\n",
              "       datetime.date(2020, 11, 8), datetime.date(2020, 11, 9),\n",
              "       datetime.date(2020, 11, 10), datetime.date(2020, 11, 11),\n",
              "       datetime.date(2020, 11, 12), datetime.date(2020, 11, 13),\n",
              "       datetime.date(2020, 11, 14), datetime.date(2020, 11, 15),\n",
              "       datetime.date(2020, 11, 16), datetime.date(2020, 11, 17),\n",
              "       datetime.date(2020, 11, 18), datetime.date(2020, 11, 19),\n",
              "       datetime.date(2020, 11, 20), datetime.date(2020, 11, 21),\n",
              "       datetime.date(2020, 11, 22), datetime.date(2020, 11, 23),\n",
              "       datetime.date(2020, 11, 24), datetime.date(2020, 11, 25),\n",
              "       datetime.date(2020, 11, 26), datetime.date(2020, 11, 27),\n",
              "       datetime.date(2020, 11, 28), datetime.date(2020, 11, 29),\n",
              "       datetime.date(2020, 11, 30), datetime.date(2020, 12, 1),\n",
              "       datetime.date(2020, 12, 2), datetime.date(2020, 12, 3),\n",
              "       datetime.date(2020, 12, 4), datetime.date(2020, 12, 5),\n",
              "       datetime.date(2020, 12, 6), datetime.date(2020, 12, 7),\n",
              "       datetime.date(2020, 12, 8), datetime.date(2020, 12, 9),\n",
              "       datetime.date(2020, 12, 10), datetime.date(2020, 12, 11),\n",
              "       datetime.date(2020, 12, 12), datetime.date(2020, 12, 13),\n",
              "       datetime.date(2020, 12, 14), datetime.date(2020, 12, 15),\n",
              "       datetime.date(2020, 12, 16), datetime.date(2020, 12, 17),\n",
              "       datetime.date(2020, 12, 18), datetime.date(2020, 12, 19),\n",
              "       datetime.date(2020, 12, 20), datetime.date(2020, 12, 21),\n",
              "       datetime.date(2020, 12, 22), datetime.date(2020, 12, 23),\n",
              "       datetime.date(2020, 12, 24), datetime.date(2020, 12, 25),\n",
              "       datetime.date(2020, 12, 26), datetime.date(2020, 12, 27),\n",
              "       datetime.date(2020, 12, 28), datetime.date(2020, 12, 29),\n",
              "       datetime.date(2020, 12, 30), datetime.date(2020, 12, 31),\n",
              "       datetime.date(2021, 1, 1), datetime.date(2021, 1, 2),\n",
              "       datetime.date(2021, 1, 3), datetime.date(2021, 1, 4),\n",
              "       datetime.date(2021, 1, 5), datetime.date(2021, 1, 6),\n",
              "       datetime.date(2021, 1, 7), datetime.date(2021, 1, 8),\n",
              "       datetime.date(2021, 1, 9), datetime.date(2021, 1, 10),\n",
              "       datetime.date(2021, 1, 11), datetime.date(2021, 1, 12),\n",
              "       datetime.date(2021, 1, 13), datetime.date(2021, 1, 14),\n",
              "       datetime.date(2021, 1, 15), datetime.date(2021, 1, 16),\n",
              "       datetime.date(2021, 1, 17), datetime.date(2021, 1, 18),\n",
              "       datetime.date(2021, 1, 19), datetime.date(2021, 1, 20),\n",
              "       datetime.date(2021, 1, 21), datetime.date(2021, 1, 22),\n",
              "       datetime.date(2021, 1, 23), datetime.date(2021, 1, 24),\n",
              "       datetime.date(2021, 1, 25), datetime.date(2021, 1, 26),\n",
              "       datetime.date(2021, 1, 27), datetime.date(2021, 1, 28),\n",
              "       datetime.date(2021, 1, 29), datetime.date(2021, 1, 30),\n",
              "       datetime.date(2021, 1, 31), datetime.date(2021, 2, 1),\n",
              "       datetime.date(2021, 2, 2), datetime.date(2021, 2, 3),\n",
              "       datetime.date(2021, 2, 4), datetime.date(2021, 2, 5),\n",
              "       datetime.date(2021, 2, 6), datetime.date(2021, 2, 7),\n",
              "       datetime.date(2021, 2, 8), datetime.date(2021, 2, 9),\n",
              "       datetime.date(2021, 2, 10), datetime.date(2021, 2, 11),\n",
              "       datetime.date(2021, 2, 12), datetime.date(2021, 2, 13),\n",
              "       datetime.date(2021, 2, 14), datetime.date(2021, 2, 15),\n",
              "       datetime.date(2021, 2, 16), datetime.date(2021, 2, 17),\n",
              "       datetime.date(2021, 2, 18), datetime.date(2021, 2, 19),\n",
              "       datetime.date(2021, 2, 20), datetime.date(2021, 2, 21),\n",
              "       datetime.date(2021, 2, 22), datetime.date(2021, 2, 23),\n",
              "       datetime.date(2021, 2, 24), datetime.date(2021, 2, 25),\n",
              "       datetime.date(2021, 2, 26), datetime.date(2021, 2, 27),\n",
              "       datetime.date(2021, 2, 28), datetime.date(2021, 3, 1),\n",
              "       datetime.date(2021, 3, 2), datetime.date(2021, 3, 3),\n",
              "       datetime.date(2021, 3, 4), datetime.date(2021, 3, 5),\n",
              "       datetime.date(2021, 3, 6), datetime.date(2021, 3, 7),\n",
              "       datetime.date(2021, 3, 8), datetime.date(2021, 3, 9),\n",
              "       datetime.date(2021, 3, 10), datetime.date(2021, 3, 11),\n",
              "       datetime.date(2021, 3, 12), datetime.date(2021, 3, 13),\n",
              "       datetime.date(2021, 3, 14), datetime.date(2021, 3, 15),\n",
              "       datetime.date(2021, 3, 16), datetime.date(2021, 3, 17),\n",
              "       datetime.date(2021, 3, 18), datetime.date(2021, 3, 19),\n",
              "       datetime.date(2021, 3, 20), datetime.date(2021, 3, 21),\n",
              "       datetime.date(2021, 3, 22), datetime.date(2021, 3, 23),\n",
              "       datetime.date(2021, 3, 24), datetime.date(2021, 3, 25),\n",
              "       datetime.date(2021, 3, 26), datetime.date(2021, 3, 27),\n",
              "       datetime.date(2021, 3, 28), datetime.date(2021, 3, 29),\n",
              "       datetime.date(2021, 3, 30), datetime.date(2021, 3, 31),\n",
              "       datetime.date(2021, 4, 1), datetime.date(2021, 4, 2),\n",
              "       datetime.date(2021, 4, 3), datetime.date(2021, 4, 4),\n",
              "       datetime.date(2021, 4, 5), datetime.date(2021, 4, 6),\n",
              "       datetime.date(2021, 4, 7), datetime.date(2021, 4, 8),\n",
              "       datetime.date(2021, 4, 9), datetime.date(2021, 4, 10),\n",
              "       datetime.date(2021, 4, 11), datetime.date(2021, 4, 12),\n",
              "       datetime.date(2021, 4, 13), datetime.date(2021, 4, 14),\n",
              "       datetime.date(2021, 4, 15), datetime.date(2021, 4, 16),\n",
              "       datetime.date(2021, 4, 17), datetime.date(2021, 4, 18),\n",
              "       datetime.date(2021, 4, 19), datetime.date(2021, 4, 20),\n",
              "       datetime.date(2021, 4, 21), datetime.date(2021, 4, 22),\n",
              "       datetime.date(2021, 4, 23), datetime.date(2021, 4, 24),\n",
              "       datetime.date(2021, 4, 25), datetime.date(2021, 4, 26),\n",
              "       datetime.date(2021, 4, 27), datetime.date(2021, 4, 28),\n",
              "       datetime.date(2021, 4, 29), datetime.date(2021, 4, 30),\n",
              "       datetime.date(2021, 5, 1), datetime.date(2021, 5, 2),\n",
              "       datetime.date(2021, 5, 3), datetime.date(2021, 5, 4),\n",
              "       datetime.date(2021, 5, 5), datetime.date(2021, 5, 6),\n",
              "       datetime.date(2021, 5, 7), datetime.date(2021, 5, 8),\n",
              "       datetime.date(2021, 5, 9), datetime.date(2021, 5, 10),\n",
              "       datetime.date(2021, 5, 11), datetime.date(2021, 5, 12),\n",
              "       datetime.date(2021, 5, 13), datetime.date(2021, 5, 14),\n",
              "       datetime.date(2021, 5, 15), datetime.date(2021, 5, 16),\n",
              "       datetime.date(2021, 5, 17), datetime.date(2021, 5, 18),\n",
              "       datetime.date(2021, 5, 19), datetime.date(2021, 5, 20),\n",
              "       datetime.date(2021, 5, 21), datetime.date(2021, 5, 22),\n",
              "       datetime.date(2021, 5, 23), datetime.date(2021, 5, 24),\n",
              "       datetime.date(2021, 5, 25), datetime.date(2021, 5, 26),\n",
              "       datetime.date(2021, 5, 27), datetime.date(2021, 5, 28),\n",
              "       datetime.date(2021, 5, 29), datetime.date(2021, 5, 30),\n",
              "       datetime.date(2021, 5, 31), datetime.date(2021, 6, 1),\n",
              "       datetime.date(2021, 6, 2), datetime.date(2021, 6, 3),\n",
              "       datetime.date(2021, 6, 4), datetime.date(2021, 6, 5),\n",
              "       datetime.date(2021, 6, 6), datetime.date(2021, 6, 7),\n",
              "       datetime.date(2021, 6, 8), datetime.date(2021, 6, 9),\n",
              "       datetime.date(2021, 6, 10), datetime.date(2021, 6, 11),\n",
              "       datetime.date(2021, 6, 12), datetime.date(2021, 6, 13),\n",
              "       datetime.date(2021, 6, 14), datetime.date(2021, 6, 15),\n",
              "       datetime.date(2021, 6, 16), datetime.date(2021, 6, 17),\n",
              "       datetime.date(2021, 6, 18), datetime.date(2021, 6, 19),\n",
              "       datetime.date(2021, 6, 20), datetime.date(2021, 6, 21),\n",
              "       datetime.date(2021, 6, 22), datetime.date(2021, 6, 23),\n",
              "       datetime.date(2021, 6, 24), datetime.date(2021, 6, 25),\n",
              "       datetime.date(2021, 6, 26), datetime.date(2021, 6, 27),\n",
              "       datetime.date(2021, 6, 28), datetime.date(2021, 6, 29),\n",
              "       datetime.date(2021, 6, 30)], dtype=object)"
            ]
          },
          "metadata": {
            "tags": []
          },
          "execution_count": 28
        }
      ]
    },
    {
      "cell_type": "code",
      "metadata": {
        "colab": {
          "base_uri": "https://localhost:8080/"
        },
        "id": "LwW3nVGQ37qx",
        "outputId": "cf3c5c89-c414-43ce-c58c-49bab79e8dd9"
      },
      "source": [
        "data_harian[\"Minggu ke-\"] = (data_harian.index.weekofyear % 4) + 1"
      ],
      "execution_count": 29,
      "outputs": [
        {
          "output_type": "stream",
          "text": [
            "/usr/local/lib/python3.7/dist-packages/ipykernel_launcher.py:1: FutureWarning: weekofyear and week have been deprecated, please use DatetimeIndex.isocalendar().week instead, which returns a Series.  To exactly reproduce the behavior of week and weekofyear and return an Index, you may call pd.Int64Index(idx.isocalendar().week)\n",
            "  \"\"\"Entry point for launching an IPython kernel.\n"
          ],
          "name": "stderr"
        }
      ]
    },
    {
      "cell_type": "code",
      "metadata": {
        "id": "Cdn8_wID4GJ8"
      },
      "source": [
        "plot_data = data_harian[[\"Positif Harian\", \"Minggu ke-\"]].groupby(\"Minggu ke-\").mean()"
      ],
      "execution_count": 30,
      "outputs": []
    },
    {
      "cell_type": "code",
      "metadata": {
        "colab": {
          "base_uri": "https://localhost:8080/"
        },
        "id": "dJqSDxy5IBbK",
        "outputId": "44e80924-20cb-4f2b-a645-1d00f0f6f031"
      },
      "source": [
        "data_harian[[\"Positif Harian\", \"Minggu ke-\"]].groupby(\"Minggu ke-\").mean().max()"
      ],
      "execution_count": 31,
      "outputs": [
        {
          "output_type": "execute_result",
          "data": {
            "text/plain": [
              "Positif Harian    1314.897638\n",
              "dtype: float64"
            ]
          },
          "metadata": {
            "tags": []
          },
          "execution_count": 31
        }
      ]
    },
    {
      "cell_type": "code",
      "metadata": {
        "colab": {
          "base_uri": "https://localhost:8080/",
          "height": 296
        },
        "id": "ZUuFLgLQ4e7z",
        "outputId": "12227724-1d3c-4a6b-b5ff-ec2c6114d064"
      },
      "source": [
        "plot_data.loc[[1, 2, 3, 4]].plot()"
      ],
      "execution_count": 32,
      "outputs": [
        {
          "output_type": "execute_result",
          "data": {
            "text/plain": [
              "<matplotlib.axes._subplots.AxesSubplot at 0x7fdd71fd1950>"
            ]
          },
          "metadata": {
            "tags": []
          },
          "execution_count": 32
        },
        {
          "output_type": "display_data",
          "data": {
            "image/png": "[encoded data removed]",
            "text/plain": [
              "<Figure size 432x288 with 1 Axes>"
            ]
          },
          "metadata": {
            "tags": [],
            "needs_background": "light"
          }
        }
      ]
    },
    {
      "cell_type": "code",
      "metadata": {
        "colab": {
          "base_uri": "https://localhost:8080/",
          "height": 296
        },
        "id": "W-9AgDmi5LNZ",
        "outputId": "19f67a4c-72fa-4832-802c-7d61a9227636"
      },
      "source": [
        "plot_data = data_harian[[\"Sembuh Harian\", \"Minggu ke-\"]].groupby(\"Minggu ke-\").mean()\n",
        "plot_data.plot()"
      ],
      "execution_count": 33,
      "outputs": [
        {
          "output_type": "execute_result",
          "data": {
            "text/plain": [
              "<matplotlib.axes._subplots.AxesSubplot at 0x7fdd71f672d0>"
            ]
          },
          "metadata": {
            "tags": []
          },
          "execution_count": 33
        },
        {
          "output_type": "display_data",
          "data": {
            "image/png": "[encoded data removed]",
            "text/plain": [
              "<Figure size 432x288 with 1 Axes>"
            ]
          },
          "metadata": {
            "tags": [],
            "needs_background": "light"
          }
        }
      ]
    },
    {
      "cell_type": "code",
      "metadata": {
        "colab": {
          "base_uri": "https://localhost:8080/"
        },
        "id": "2l4w0T9uIFvG",
        "outputId": "0df45d5e-b687-4c2c-ab0b-67cd5a81c23a"
      },
      "source": [
        "data_harian[[\"Sembuh Harian\", \"Minggu ke-\"]].groupby(\"Minggu ke-\").mean().max()"
      ],
      "execution_count": 34,
      "outputs": [
        {
          "output_type": "execute_result",
          "data": {
            "text/plain": [
              "Sembuh Harian    1046.905512\n",
              "dtype: float64"
            ]
          },
          "metadata": {
            "tags": []
          },
          "execution_count": 34
        }
      ]
    },
    {
      "cell_type": "code",
      "metadata": {
        "colab": {
          "base_uri": "https://localhost:8080/"
        },
        "id": "wlypuNEC5nAa",
        "outputId": "38d5e22d-fa8a-4c9b-a469-b57c009ceced"
      },
      "source": [
        "data_harian.columns"
      ],
      "execution_count": 35,
      "outputs": [
        {
          "output_type": "execute_result",
          "data": {
            "text/plain": [
              "Index(['Jam', 'Total Pasien Harian', 'Sembuh Harian', 'Meninggal Harian',\n",
              "       'Self Isolation Harian', 'Masih Perawatan Harian', 'Positif Harian',\n",
              "       'Hari', 'Minggu ke-'],\n",
              "      dtype='object')"
            ]
          },
          "metadata": {
            "tags": []
          },
          "execution_count": 35
        }
      ]
    },
    {
      "cell_type": "code",
      "metadata": {
        "colab": {
          "base_uri": "https://localhost:8080/",
          "height": 337
        },
        "id": "COD76pxv58tP",
        "outputId": "760a60c0-53a5-4b36-89f9-20ee4df7499d"
      },
      "source": [
        "data_harian.tail()"
      ],
      "execution_count": 36,
      "outputs": [
        {
          "output_type": "execute_result",
          "data": {
            "text/html": [
              "<div>\n",
              "<style scoped>\n",
              "    .dataframe tbody tr th:only-of-type {\n",
              "        vertical-align: middle;\n",
              "    }\n",
              "\n",
              "    .dataframe tbody tr th {\n",
              "        vertical-align: top;\n",
              "    }\n",
              "\n",
              "    .dataframe thead th {\n",
              "        text-align: right;\n",
              "    }\n",
              "</style>\n",
              "<table border=\"1\" class=\"dataframe\">\n",
              "  <thead>\n",
              "    <tr style=\"text-align: right;\">\n",
              "      <th></th>\n",
              "      <th>Jam</th>\n",
              "      <th>Total Pasien Harian</th>\n",
              "      <th>Sembuh Harian</th>\n",
              "      <th>Meninggal Harian</th>\n",
              "      <th>Self Isolation Harian</th>\n",
              "      <th>Masih Perawatan Harian</th>\n",
              "      <th>Positif Harian</th>\n",
              "      <th>Hari</th>\n",
              "      <th>Minggu ke-</th>\n",
              "    </tr>\n",
              "    <tr>\n",
              "      <th>Tanggal</th>\n",
              "      <th></th>\n",
              "      <th></th>\n",
              "      <th></th>\n",
              "      <th></th>\n",
              "      <th></th>\n",
              "      <th></th>\n",
              "      <th></th>\n",
              "      <th></th>\n",
              "      <th></th>\n",
              "    </tr>\n",
              "  </thead>\n",
              "  <tbody>\n",
              "    <tr>\n",
              "      <th>2021-06-26</th>\n",
              "      <td>8.0</td>\n",
              "      <td>9271</td>\n",
              "      <td>2725</td>\n",
              "      <td>43</td>\n",
              "      <td>4504</td>\n",
              "      <td>1999</td>\n",
              "      <td>9271</td>\n",
              "      <td>Sabtu</td>\n",
              "      <td>2</td>\n",
              "    </tr>\n",
              "    <tr>\n",
              "      <th>2021-06-27</th>\n",
              "      <td>8.0</td>\n",
              "      <td>9394</td>\n",
              "      <td>3484</td>\n",
              "      <td>49</td>\n",
              "      <td>4635</td>\n",
              "      <td>1226</td>\n",
              "      <td>9394</td>\n",
              "      <td>Minggu</td>\n",
              "      <td>2</td>\n",
              "    </tr>\n",
              "    <tr>\n",
              "      <th>2021-06-28</th>\n",
              "      <td>8.0</td>\n",
              "      <td>8348</td>\n",
              "      <td>3438</td>\n",
              "      <td>79</td>\n",
              "      <td>3788</td>\n",
              "      <td>1043</td>\n",
              "      <td>8348</td>\n",
              "      <td>Senin</td>\n",
              "      <td>3</td>\n",
              "    </tr>\n",
              "    <tr>\n",
              "      <th>2021-06-29</th>\n",
              "      <td>8.0</td>\n",
              "      <td>7379</td>\n",
              "      <td>3504</td>\n",
              "      <td>78</td>\n",
              "      <td>3252</td>\n",
              "      <td>545</td>\n",
              "      <td>7379</td>\n",
              "      <td>Selasa</td>\n",
              "      <td>3</td>\n",
              "    </tr>\n",
              "    <tr>\n",
              "      <th>2021-06-30</th>\n",
              "      <td>8.0</td>\n",
              "      <td>7680</td>\n",
              "      <td>3504</td>\n",
              "      <td>60</td>\n",
              "      <td>2325</td>\n",
              "      <td>1791</td>\n",
              "      <td>7680</td>\n",
              "      <td>Rabu</td>\n",
              "      <td>3</td>\n",
              "    </tr>\n",
              "  </tbody>\n",
              "</table>\n",
              "</div>"
            ],
            "text/plain": [
              "            Jam  Total Pasien Harian  ...    Hari  Minggu ke-\n",
              "Tanggal                               ...                    \n",
              "2021-06-26  8.0                 9271  ...   Sabtu           2\n",
              "2021-06-27  8.0                 9394  ...  Minggu           2\n",
              "2021-06-28  8.0                 8348  ...   Senin           3\n",
              "2021-06-29  8.0                 7379  ...  Selasa           3\n",
              "2021-06-30  8.0                 7680  ...    Rabu           3\n",
              "\n",
              "[5 rows x 9 columns]"
            ]
          },
          "metadata": {
            "tags": []
          },
          "execution_count": 36
        }
      ]
    },
    {
      "cell_type": "code",
      "metadata": {
        "id": "jn_jB1mD5m8a"
      },
      "source": [
        "def plot_mingguke(column):\n",
        "  plot_data = data_harian[[column, \"Minggu ke-\"]].groupby(\"Minggu ke-\").mean()\n",
        "  plot_data.plot()"
      ],
      "execution_count": 37,
      "outputs": []
    },
    {
      "cell_type": "code",
      "metadata": {
        "colab": {
          "base_uri": "https://localhost:8080/",
          "height": 279
        },
        "id": "9VNyJqKU51C_",
        "outputId": "5fe5801d-a653-423b-9652-8fc23e13f91b"
      },
      "source": [
        "plot_mingguke('Total Pasien Harian')"
      ],
      "execution_count": 38,
      "outputs": [
        {
          "output_type": "display_data",
          "data": {
            "image/png": "[encoded data removed]",
            "text/plain": [
              "<Figure size 432x288 with 1 Axes>"
            ]
          },
          "metadata": {
            "tags": [],
            "needs_background": "light"
          }
        }
      ]
    },
    {
      "cell_type": "code",
      "metadata": {
        "id": "8PmiBYDH6Hmg"
      },
      "source": [
        "data_harian[\"Tanggal Angka\"] = data_harian.index.day"
      ],
      "execution_count": 39,
      "outputs": []
    },
    {
      "cell_type": "code",
      "metadata": {
        "id": "Kt2-LrBc6R0S"
      },
      "source": [
        "def plott(column, group):\n",
        "  plot_data = data_harian[[column, group]].groupby(group).mean()\n",
        "  plot_data.plot()"
      ],
      "execution_count": 40,
      "outputs": []
    },
    {
      "cell_type": "code",
      "metadata": {
        "colab": {
          "base_uri": "https://localhost:8080/"
        },
        "id": "Nl7k9Odu7Q2m",
        "outputId": "befb7077-7915-49dd-ccd8-493e19fceb6d"
      },
      "source": [
        "data_harian[[\"Positif Harian\", \"Tanggal Angka\"]].groupby(\"Tanggal Angka\").mean().max()"
      ],
      "execution_count": 41,
      "outputs": [
        {
          "output_type": "execute_result",
          "data": {
            "text/plain": [
              "Positif Harian    1427.0625\n",
              "dtype: float64"
            ]
          },
          "metadata": {
            "tags": []
          },
          "execution_count": 41
        }
      ]
    },
    {
      "cell_type": "code",
      "metadata": {
        "colab": {
          "base_uri": "https://localhost:8080/",
          "height": 1000
        },
        "id": "bUbLiosl7Mzm",
        "outputId": "455213fc-bbf5-4f58-bbc1-57d5b06f3106"
      },
      "source": [
        "data_harian[[\"Positif Harian\", \"Tanggal Angka\"]].groupby(\"Tanggal Angka\").mean()"
      ],
      "execution_count": 42,
      "outputs": [
        {
          "output_type": "execute_result",
          "data": {
            "text/html": [
              "<div>\n",
              "<style scoped>\n",
              "    .dataframe tbody tr th:only-of-type {\n",
              "        vertical-align: middle;\n",
              "    }\n",
              "\n",
              "    .dataframe tbody tr th {\n",
              "        vertical-align: top;\n",
              "    }\n",
              "\n",
              "    .dataframe thead th {\n",
              "        text-align: right;\n",
              "    }\n",
              "</style>\n",
              "<table border=\"1\" class=\"dataframe\">\n",
              "  <thead>\n",
              "    <tr style=\"text-align: right;\">\n",
              "      <th></th>\n",
              "      <th>Positif Harian</th>\n",
              "    </tr>\n",
              "    <tr>\n",
              "      <th>Tanggal Angka</th>\n",
              "      <th></th>\n",
              "    </tr>\n",
              "  </thead>\n",
              "  <tbody>\n",
              "    <tr>\n",
              "      <th>1</th>\n",
              "      <td>942.562500</td>\n",
              "    </tr>\n",
              "    <tr>\n",
              "      <th>2</th>\n",
              "      <td>855.375000</td>\n",
              "    </tr>\n",
              "    <tr>\n",
              "      <th>3</th>\n",
              "      <td>902.062500</td>\n",
              "    </tr>\n",
              "    <tr>\n",
              "      <th>4</th>\n",
              "      <td>908.687500</td>\n",
              "    </tr>\n",
              "    <tr>\n",
              "      <th>5</th>\n",
              "      <td>860.812500</td>\n",
              "    </tr>\n",
              "    <tr>\n",
              "      <th>6</th>\n",
              "      <td>888.062500</td>\n",
              "    </tr>\n",
              "    <tr>\n",
              "      <th>7</th>\n",
              "      <td>1096.437500</td>\n",
              "    </tr>\n",
              "    <tr>\n",
              "      <th>8</th>\n",
              "      <td>1001.687500</td>\n",
              "    </tr>\n",
              "    <tr>\n",
              "      <th>9</th>\n",
              "      <td>965.812500</td>\n",
              "    </tr>\n",
              "    <tr>\n",
              "      <th>10</th>\n",
              "      <td>1053.812500</td>\n",
              "    </tr>\n",
              "    <tr>\n",
              "      <th>11</th>\n",
              "      <td>988.125000</td>\n",
              "    </tr>\n",
              "    <tr>\n",
              "      <th>12</th>\n",
              "      <td>1119.750000</td>\n",
              "    </tr>\n",
              "    <tr>\n",
              "      <th>13</th>\n",
              "      <td>1107.562500</td>\n",
              "    </tr>\n",
              "    <tr>\n",
              "      <th>14</th>\n",
              "      <td>1066.250000</td>\n",
              "    </tr>\n",
              "    <tr>\n",
              "      <th>15</th>\n",
              "      <td>905.750000</td>\n",
              "    </tr>\n",
              "    <tr>\n",
              "      <th>16</th>\n",
              "      <td>987.562500</td>\n",
              "    </tr>\n",
              "    <tr>\n",
              "      <th>17</th>\n",
              "      <td>1105.562500</td>\n",
              "    </tr>\n",
              "    <tr>\n",
              "      <th>18</th>\n",
              "      <td>1046.375000</td>\n",
              "    </tr>\n",
              "    <tr>\n",
              "      <th>19</th>\n",
              "      <td>1167.250000</td>\n",
              "    </tr>\n",
              "    <tr>\n",
              "      <th>20</th>\n",
              "      <td>1358.187500</td>\n",
              "    </tr>\n",
              "    <tr>\n",
              "      <th>21</th>\n",
              "      <td>1301.625000</td>\n",
              "    </tr>\n",
              "    <tr>\n",
              "      <th>22</th>\n",
              "      <td>1204.750000</td>\n",
              "    </tr>\n",
              "    <tr>\n",
              "      <th>23</th>\n",
              "      <td>1120.750000</td>\n",
              "    </tr>\n",
              "    <tr>\n",
              "      <th>24</th>\n",
              "      <td>1309.000000</td>\n",
              "    </tr>\n",
              "    <tr>\n",
              "      <th>25</th>\n",
              "      <td>1300.875000</td>\n",
              "    </tr>\n",
              "    <tr>\n",
              "      <th>26</th>\n",
              "      <td>1419.000000</td>\n",
              "    </tr>\n",
              "    <tr>\n",
              "      <th>27</th>\n",
              "      <td>1427.062500</td>\n",
              "    </tr>\n",
              "    <tr>\n",
              "      <th>28</th>\n",
              "      <td>1403.375000</td>\n",
              "    </tr>\n",
              "    <tr>\n",
              "      <th>29</th>\n",
              "      <td>1389.333333</td>\n",
              "    </tr>\n",
              "    <tr>\n",
              "      <th>30</th>\n",
              "      <td>1337.933333</td>\n",
              "    </tr>\n",
              "    <tr>\n",
              "      <th>31</th>\n",
              "      <td>1059.222222</td>\n",
              "    </tr>\n",
              "  </tbody>\n",
              "</table>\n",
              "</div>"
            ],
            "text/plain": [
              "               Positif Harian\n",
              "Tanggal Angka                \n",
              "1                  942.562500\n",
              "2                  855.375000\n",
              "3                  902.062500\n",
              "4                  908.687500\n",
              "5                  860.812500\n",
              "6                  888.062500\n",
              "7                 1096.437500\n",
              "8                 1001.687500\n",
              "9                  965.812500\n",
              "10                1053.812500\n",
              "11                 988.125000\n",
              "12                1119.750000\n",
              "13                1107.562500\n",
              "14                1066.250000\n",
              "15                 905.750000\n",
              "16                 987.562500\n",
              "17                1105.562500\n",
              "18                1046.375000\n",
              "19                1167.250000\n",
              "20                1358.187500\n",
              "21                1301.625000\n",
              "22                1204.750000\n",
              "23                1120.750000\n",
              "24                1309.000000\n",
              "25                1300.875000\n",
              "26                1419.000000\n",
              "27                1427.062500\n",
              "28                1403.375000\n",
              "29                1389.333333\n",
              "30                1337.933333\n",
              "31                1059.222222"
            ]
          },
          "metadata": {
            "tags": []
          },
          "execution_count": 42
        }
      ]
    },
    {
      "cell_type": "code",
      "metadata": {
        "id": "OAORskr6-dxy"
      },
      "source": [
        "def plottahun(column, group, tahun):\n",
        "  plot_data = data_harian.loc[data_harian['Tahun'] == tahun][[column, group]].groupby(group).mean()\n",
        "  plot_data.plot()"
      ],
      "execution_count": 43,
      "outputs": []
    },
    {
      "cell_type": "code",
      "metadata": {
        "id": "Lk-v9RSV7m8o"
      },
      "source": [
        "data_harian[\"Bulan\"] = data_harian.index.month"
      ],
      "execution_count": 44,
      "outputs": []
    },
    {
      "cell_type": "code",
      "metadata": {
        "id": "l0s6cfzM7w_C"
      },
      "source": [
        "data_harian[\"Tahun\"] = data_harian.index.year"
      ],
      "execution_count": 45,
      "outputs": []
    },
    {
      "cell_type": "code",
      "metadata": {
        "colab": {
          "base_uri": "https://localhost:8080/",
          "height": 279
        },
        "id": "FZbxi1ph-nV6",
        "outputId": "0ea92217-7d71-410c-a4a7-cc301f145fae"
      },
      "source": [
        "plottahun(\"Positif Harian\", 'Tanggal Angka', 2021)"
      ],
      "execution_count": 46,
      "outputs": [
        {
          "output_type": "display_data",
          "data": {
            "image/png": "[encoded data removed]",
            "text/plain": [
              "<Figure size 432x288 with 1 Axes>"
            ]
          },
          "metadata": {
            "tags": [],
            "needs_background": "light"
          }
        }
      ]
    },
    {
      "cell_type": "code",
      "metadata": {
        "colab": {
          "base_uri": "https://localhost:8080/",
          "height": 279
        },
        "id": "LwXuZTyG-vJ3",
        "outputId": "82b095dc-5178-4d74-da17-c496b3ba88bd"
      },
      "source": [
        "plottahun(\"Positif Harian\", \"Minggu ke-\", 2021)"
      ],
      "execution_count": 47,
      "outputs": [
        {
          "output_type": "display_data",
          "data": {
            "image/png": "[encoded data removed]",
            "text/plain": [
              "<Figure size 432x288 with 1 Axes>"
            ]
          },
          "metadata": {
            "tags": [],
            "needs_background": "light"
          }
        }
      ]
    },
    {
      "cell_type": "code",
      "metadata": {
        "colab": {
          "base_uri": "https://localhost:8080/",
          "height": 279
        },
        "id": "GgaIgydt-1JU",
        "outputId": "1c1149b9-75e4-4480-fc9e-e7376bba7e25"
      },
      "source": [
        "plottahun(\"Positif Harian\", \"Bulan\", 2020)"
      ],
      "execution_count": 48,
      "outputs": [
        {
          "output_type": "display_data",
          "data": {
            "image/png": "[encoded data removed]",
            "text/plain": [
              "<Figure size 432x288 with 1 Axes>"
            ]
          },
          "metadata": {
            "tags": [],
            "needs_background": "light"
          }
        }
      ]
    },
    {
      "cell_type": "code",
      "metadata": {
        "colab": {
          "base_uri": "https://localhost:8080/",
          "height": 279
        },
        "id": "HsRFP-LqBZXR",
        "outputId": "0e614a2f-232a-4845-ad92-aa741b697c75"
      },
      "source": [
        "plottahun(\"Positif Harian\", \"Bulan\", 2021)"
      ],
      "execution_count": 49,
      "outputs": [
        {
          "output_type": "display_data",
          "data": {
            "image/png": "[encoded data removed]",
            "text/plain": [
              "<Figure size 432x288 with 1 Axes>"
            ]
          },
          "metadata": {
            "tags": [],
            "needs_background": "light"
          }
        }
      ]
    },
    {
      "cell_type": "code",
      "metadata": {
        "colab": {
          "base_uri": "https://localhost:8080/",
          "height": 279
        },
        "id": "hvydXY436iM-",
        "outputId": "249974df-0abb-4dc6-f842-184c282e28d9"
      },
      "source": [
        "plott(\"Positif Harian\", \"Tanggal Angka\")"
      ],
      "execution_count": 50,
      "outputs": [
        {
          "output_type": "display_data",
          "data": {
            "image/png": "[encoded data removed]",
            "text/plain": [
              "<Figure size 432x288 with 1 Axes>"
            ]
          },
          "metadata": {
            "tags": [],
            "needs_background": "light"
          }
        }
      ]
    },
    {
      "cell_type": "code",
      "metadata": {
        "colab": {
          "base_uri": "https://localhost:8080/",
          "height": 953
        },
        "id": "RgcT9U8N753_",
        "outputId": "153bb16c-f0cc-456b-9848-2a90bb26a95d"
      },
      "source": [
        "plot_data = data_harian[[\"Positif Harian\", \"Tahun\", \"Bulan\"]].groupby([\"Tahun\", \"Bulan\"]).mean()\n",
        "plot_data.plot(figsize=[20, 20])"
      ],
      "execution_count": 51,
      "outputs": [
        {
          "output_type": "execute_result",
          "data": {
            "text/plain": [
              "<matplotlib.axes._subplots.AxesSubplot at 0x7fdd71dc01d0>"
            ]
          },
          "metadata": {
            "tags": []
          },
          "execution_count": 51
        },
        {
          "output_type": "display_data",
          "data": {
            "image/png": "[encoded data removed]",
            "text/plain": [
              "<Figure size 1440x1440 with 1 Axes>"
            ]
          },
          "metadata": {
            "tags": [],
            "needs_background": "light"
          }
        }
      ]
    },
    {
      "cell_type": "code",
      "metadata": {
        "colab": {
          "base_uri": "https://localhost:8080/",
          "height": 279
        },
        "id": "i2g5K0--9Dv4",
        "outputId": "dd7f023a-5013-4532-d903-9c5b3fdb5457"
      },
      "source": [
        "plott(\"Positif Harian\", \"Tahun\")"
      ],
      "execution_count": 52,
      "outputs": [
        {
          "output_type": "display_data",
          "data": {
            "image/png": "[encoded data removed]",
            "text/plain": [
              "<Figure size 432x288 with 1 Axes>"
            ]
          },
          "metadata": {
            "tags": [],
            "needs_background": "light"
          }
        }
      ]
    },
    {
      "cell_type": "code",
      "metadata": {
        "colab": {
          "base_uri": "https://localhost:8080/"
        },
        "id": "WUd9pVkYUO1H",
        "outputId": "34c77746-ae0b-4911-ee57-2a68d052d6cb"
      },
      "source": [
        "data_harian.columns"
      ],
      "execution_count": 53,
      "outputs": [
        {
          "output_type": "execute_result",
          "data": {
            "text/plain": [
              "Index(['Jam', 'Total Pasien Harian', 'Sembuh Harian', 'Meninggal Harian',\n",
              "       'Self Isolation Harian', 'Masih Perawatan Harian', 'Positif Harian',\n",
              "       'Hari', 'Minggu ke-', 'Tanggal Angka', 'Bulan', 'Tahun'],\n",
              "      dtype='object')"
            ]
          },
          "metadata": {
            "tags": []
          },
          "execution_count": 53
        }
      ]
    },
    {
      "cell_type": "code",
      "metadata": {
        "id": "9rkhwCyJYLAY"
      },
      "source": [
        "list_column = [\"Total Pasien Harian\", \"Sembuh Harian\", \"Meninggal Harian\", \"Self Isolation Harian\", \"Masih Perawatan Harian\"]"
      ],
      "execution_count": 54,
      "outputs": []
    },
    {
      "cell_type": "code",
      "metadata": {
        "colab": {
          "base_uri": "https://localhost:8080/",
          "height": 920
        },
        "id": "o3ObM6bKYGiX",
        "outputId": "0b629610-3319-4f4d-ea22-0b1a8cce5f1c"
      },
      "source": [
        "\n",
        "plt.figure(figsize=[20, 20])\n",
        "sns.boxplot(data = data_harian[list_column])\n",
        "plt.show()"
      ],
      "execution_count": 55,
      "outputs": [
        {
          "output_type": "display_data",
          "data": {
            "image/png": "[encoded data removed]",
            "text/plain": [
              "<Figure size 1440x1440 with 1 Axes>"
            ]
          },
          "metadata": {
            "tags": [],
            "needs_background": "light"
          }
        }
      ]
    },
    {
      "cell_type": "code",
      "metadata": {
        "colab": {
          "base_uri": "https://localhost:8080/",
          "height": 1000
        },
        "id": "L2m9rAvmUjuC",
        "outputId": "33cd2499-7aa1-4451-d493-94a02d2cc16f"
      },
      "source": [
        "for column in [\"Total Pasien Harian\", \"Sembuh Harian\", \"Meninggal Harian\", \"Self Isolation Harian\", \"Masih Perawatan Harian\"]:\n",
        "  graph = sns.boxplot(data_harian[column])\n",
        "  lower, upper = outlier(data_harian[column])\n",
        "  graph.set_xticks([lower, upper])\n",
        "  graph.axvline(lower, linestyle=\"dashed\")\n",
        "  graph.axvline(upper, linestyle=\"dashed\")\n",
        "  plt.show()"
      ],
      "execution_count": 56,
      "outputs": [
        {
          "output_type": "stream",
          "text": [
            "/usr/local/lib/python3.7/dist-packages/seaborn/_decorators.py:43: FutureWarning: Pass the following variable as a keyword arg: x. From version 0.12, the only valid positional argument will be `data`, and passing other arguments without an explicit keyword will result in an error or misinterpretation.\n",
            "  FutureWarning\n"
          ],
          "name": "stderr"
        },
        {
          "output_type": "display_data",
          "data": {
            "image/png": "[encoded data removed]",
            "text/plain": [
              "<Figure size 432x288 with 1 Axes>"
            ]
          },
          "metadata": {
            "tags": [],
            "needs_background": "light"
          }
        },
        {
          "output_type": "stream",
          "text": [
            "/usr/local/lib/python3.7/dist-packages/seaborn/_decorators.py:43: FutureWarning: Pass the following variable as a keyword arg: x. From version 0.12, the only valid positional argument will be `data`, and passing other arguments without an explicit keyword will result in an error or misinterpretation.\n",
            "  FutureWarning\n"
          ],
          "name": "stderr"
        },
        {
          "output_type": "display_data",
          "data": {
            "image/png": "[encoded data removed]",
            "text/plain": [
              "<Figure size 432x288 with 1 Axes>"
            ]
          },
          "metadata": {
            "tags": [],
            "needs_background": "light"
          }
        },
        {
          "output_type": "stream",
          "text": [
            "/usr/local/lib/python3.7/dist-packages/seaborn/_decorators.py:43: FutureWarning: Pass the following variable as a keyword arg: x. From version 0.12, the only valid positional argument will be `data`, and passing other arguments without an explicit keyword will result in an error or misinterpretation.\n",
            "  FutureWarning\n"
          ],
          "name": "stderr"
        },
        {
          "output_type": "display_data",
          "data": {
            "image/png": "[encoded data removed]",
            "text/plain": [
              "<Figure size 432x288 with 1 Axes>"
            ]
          },
          "metadata": {
            "tags": [],
            "needs_background": "light"
          }
        },
        {
          "output_type": "stream",
          "text": [
            "/usr/local/lib/python3.7/dist-packages/seaborn/_decorators.py:43: FutureWarning: Pass the following variable as a keyword arg: x. From version 0.12, the only valid positional argument will be `data`, and passing other arguments without an explicit keyword will result in an error or misinterpretation.\n",
            "  FutureWarning\n"
          ],
          "name": "stderr"
        },
        {
          "output_type": "display_data",
          "data": {
            "image/png": "[encoded data removed]",
            "text/plain": [
              "<Figure size 432x288 with 1 Axes>"
            ]
          },
          "metadata": {
            "tags": [],
            "needs_background": "light"
          }
        },
        {
          "output_type": "stream",
          "text": [
            "/usr/local/lib/python3.7/dist-packages/seaborn/_decorators.py:43: FutureWarning: Pass the following variable as a keyword arg: x. From version 0.12, the only valid positional argument will be `data`, and passing other arguments without an explicit keyword will result in an error or misinterpretation.\n",
            "  FutureWarning\n"
          ],
          "name": "stderr"
        },
        {
          "output_type": "display_data",
          "data": {
            "image/png": "[encoded data removed]",
            "text/plain": [
              "<Figure size 432x288 with 1 Axes>"
            ]
          },
          "metadata": {
            "tags": [],
            "needs_background": "light"
          }
        }
      ]
    },
    {
      "cell_type": "code",
      "metadata": {
        "colab": {
          "base_uri": "https://localhost:8080/"
        },
        "id": "CHxm93tHWtGB",
        "outputId": "a0a96150-730f-4d41-8aca-1e3f7c2209cf"
      },
      "source": [
        "data_harian.shape[0]"
      ],
      "execution_count": 57,
      "outputs": [
        {
          "output_type": "execute_result",
          "data": {
            "text/plain": [
              "487"
            ]
          },
          "metadata": {
            "tags": []
          },
          "execution_count": 57
        }
      ]
    },
    {
      "cell_type": "code",
      "metadata": {
        "colab": {
          "base_uri": "https://localhost:8080/"
        },
        "id": "mopNMxn5U72_",
        "outputId": "274d3d0d-5380-490d-a8e6-a02ae1e05f30"
      },
      "source": [
        "for column in [\"Total Pasien Harian\", \"Sembuh Harian\", \"Meninggal Harian\", \"Self Isolation Harian\", \"Masih Perawatan Harian\"]:\n",
        "    if (data_harian[column].dtype != 'datetime64[ns]'):\n",
        "      lower, upper = outlier(data_harian[column])\n",
        "      print(f'Jumlah outlier adalah {len(list(data_harian.loc[(data_harian[column] < lower) | (data_harian[column] > upper)][column]))}')\n",
        "      print(f'Outlier pada kolom {column} adalah {list(data_harian.loc[(data_harian[column] < lower) | (data_harian[column] > upper)][column])}')"
      ],
      "execution_count": 58,
      "outputs": [
        {
          "output_type": "stream",
          "text": [
            "Jumlah outlier adalah 36\n",
            "Outlier pada kolom Total Pasien Harian adalah [3476, 3165, 3536, 3395, 3786, 3151, 3792, 3285, 3512, 3448, 3491, 3474, 3614, 3362, 3567, 3632, 3340, 4213, 3144, 3437, 3309, 3810, 4144, 4737, 4895, 5582, 5014, 3221, 4693, 7505, 6934, 9271, 9394, 8348, 7379, 7680]\n",
            "Jumlah outlier adalah 25\n",
            "Outlier pada kolom Sembuh Harian adalah [2963, 2960, 3771, 4527, 3568, 2939, 2971, 3255, 3674, 4313, 4345, 4325, 4342, 3416, 3244, 4005, 5757, 4610, 4349, 3025, 3052, 3484, 3438, 3504, 3504]\n",
            "Jumlah outlier adalah 23\n",
            "Outlier pada kolom Meninggal Harian adalah [51, 70, 50, 50, 52, 47, 51, 53, 54, 50, 48, 63, 48, 64, 59, 69, 71, 50, 70, 49, 79, 78, 60]\n",
            "Jumlah outlier adalah 66\n",
            "Outlier pada kolom Self Isolation Harian adalah [-950, 928, -933, -563, -532, 707, 777, 687, 654, 719, 790, -607, 1299, 616, 1050, 843, 1971, -783, -1815, 1785, 786, 905, 897, -904, 908, 1158, -1267, -899, 2938, -1444, 772, -1866, -1367, -1498, -2557, -3345, -1130, -627, -575, -1400, -1118, -509, -819, -1330, -638, -783, -668, -615, 871, 759, 1105, 1179, 1206, 1499, 1897, 1836, 2318, 1612, 1701, 3535, 2922, 4504, 4635, 3788, 3252, 2325]\n",
            "Jumlah outlier adalah 65\n",
            "Outlier pada kolom Masih Perawatan Harian adalah [-415, 405, -350, -486, -647, -455, -428, 498, 491, 424, 441, 709, 526, 485, 437, -1232, 478, 595, -1190, -365, 1001, -374, -458, 600, -682, 817, -1228, -407, -952, 1054, 859, -707, 690, 1192, 1519, 1043, 1348, -514, -1271, -419, -901, -917, -673, -593, -560, -660, -395, -440, 410, -374, 611, 641, 446, 614, 528, 765, 712, 1813, 1397, 1372, 1999, 1226, 1043, 545, 1791]\n"
          ],
          "name": "stdout"
        }
      ]
    },
    {
      "cell_type": "code",
      "metadata": {
        "id": "XB7WdL-ZSYsX"
      },
      "source": [
        ""
      ],
      "execution_count": 58,
      "outputs": []
    },
    {
      "cell_type": "code",
      "metadata": {
        "colab": {
          "base_uri": "https://localhost:8080/"
        },
        "id": "bRIm4Kb4STxE",
        "outputId": "0bd88c78-993a-488d-87e3-b40182b83104"
      },
      "source": [
        "data_harian.stack().head"
      ],
      "execution_count": 59,
      "outputs": [
        {
          "output_type": "execute_result",
          "data": {
            "text/plain": [
              "<bound method NDFrame.head of Tanggal                           \n",
              "2020-03-01  Total Pasien Harian          0\n",
              "            Sembuh Harian                0\n",
              "            Meninggal Harian             0\n",
              "            Self Isolation Harian        0\n",
              "            Masih Perawatan Harian       0\n",
              "                                      ... \n",
              "2021-06-30  Hari                      Rabu\n",
              "            Minggu ke-                   3\n",
              "            Tanggal Angka               30\n",
              "            Bulan                        6\n",
              "            Tahun                     2021\n",
              "Length: 5825, dtype: object>"
            ]
          },
          "metadata": {
            "tags": []
          },
          "execution_count": 59
        }
      ]
    },
    {
      "cell_type": "code",
      "metadata": {
        "id": "BmHqMUAbBk5b"
      },
      "source": [
        "data_harian['Minggu ke-'] = (data_harian['Tanggal Angka'] // 7) + 1"
      ],
      "execution_count": 60,
      "outputs": []
    },
    {
      "cell_type": "code",
      "metadata": {
        "colab": {
          "base_uri": "https://localhost:8080/",
          "height": 354
        },
        "id": "qsj6uPvoBsZs",
        "outputId": "9b7867ca-31ae-47f2-9a31-5cbc5c0901ab"
      },
      "source": [
        "data_harian.tail()"
      ],
      "execution_count": 61,
      "outputs": [
        {
          "output_type": "execute_result",
          "data": {
            "text/html": [
              "<div>\n",
              "<style scoped>\n",
              "    .dataframe tbody tr th:only-of-type {\n",
              "        vertical-align: middle;\n",
              "    }\n",
              "\n",
              "    .dataframe tbody tr th {\n",
              "        vertical-align: top;\n",
              "    }\n",
              "\n",
              "    .dataframe thead th {\n",
              "        text-align: right;\n",
              "    }\n",
              "</style>\n",
              "<table border=\"1\" class=\"dataframe\">\n",
              "  <thead>\n",
              "    <tr style=\"text-align: right;\">\n",
              "      <th></th>\n",
              "      <th>Jam</th>\n",
              "      <th>Total Pasien Harian</th>\n",
              "      <th>Sembuh Harian</th>\n",
              "      <th>Meninggal Harian</th>\n",
              "      <th>Self Isolation Harian</th>\n",
              "      <th>Masih Perawatan Harian</th>\n",
              "      <th>Positif Harian</th>\n",
              "      <th>Hari</th>\n",
              "      <th>Minggu ke-</th>\n",
              "      <th>Tanggal Angka</th>\n",
              "      <th>Bulan</th>\n",
              "      <th>Tahun</th>\n",
              "    </tr>\n",
              "    <tr>\n",
              "      <th>Tanggal</th>\n",
              "      <th></th>\n",
              "      <th></th>\n",
              "      <th></th>\n",
              "      <th></th>\n",
              "      <th></th>\n",
              "      <th></th>\n",
              "      <th></th>\n",
              "      <th></th>\n",
              "      <th></th>\n",
              "      <th></th>\n",
              "      <th></th>\n",
              "      <th></th>\n",
              "    </tr>\n",
              "  </thead>\n",
              "  <tbody>\n",
              "    <tr>\n",
              "      <th>2021-06-26</th>\n",
              "      <td>8.0</td>\n",
              "      <td>9271</td>\n",
              "      <td>2725</td>\n",
              "      <td>43</td>\n",
              "      <td>4504</td>\n",
              "      <td>1999</td>\n",
              "      <td>9271</td>\n",
              "      <td>Sabtu</td>\n",
              "      <td>4</td>\n",
              "      <td>26</td>\n",
              "      <td>6</td>\n",
              "      <td>2021</td>\n",
              "    </tr>\n",
              "    <tr>\n",
              "      <th>2021-06-27</th>\n",
              "      <td>8.0</td>\n",
              "      <td>9394</td>\n",
              "      <td>3484</td>\n",
              "      <td>49</td>\n",
              "      <td>4635</td>\n",
              "      <td>1226</td>\n",
              "      <td>9394</td>\n",
              "      <td>Minggu</td>\n",
              "      <td>4</td>\n",
              "      <td>27</td>\n",
              "      <td>6</td>\n",
              "      <td>2021</td>\n",
              "    </tr>\n",
              "    <tr>\n",
              "      <th>2021-06-28</th>\n",
              "      <td>8.0</td>\n",
              "      <td>8348</td>\n",
              "      <td>3438</td>\n",
              "      <td>79</td>\n",
              "      <td>3788</td>\n",
              "      <td>1043</td>\n",
              "      <td>8348</td>\n",
              "      <td>Senin</td>\n",
              "      <td>5</td>\n",
              "      <td>28</td>\n",
              "      <td>6</td>\n",
              "      <td>2021</td>\n",
              "    </tr>\n",
              "    <tr>\n",
              "      <th>2021-06-29</th>\n",
              "      <td>8.0</td>\n",
              "      <td>7379</td>\n",
              "      <td>3504</td>\n",
              "      <td>78</td>\n",
              "      <td>3252</td>\n",
              "      <td>545</td>\n",
              "      <td>7379</td>\n",
              "      <td>Selasa</td>\n",
              "      <td>5</td>\n",
              "      <td>29</td>\n",
              "      <td>6</td>\n",
              "      <td>2021</td>\n",
              "    </tr>\n",
              "    <tr>\n",
              "      <th>2021-06-30</th>\n",
              "      <td>8.0</td>\n",
              "      <td>7680</td>\n",
              "      <td>3504</td>\n",
              "      <td>60</td>\n",
              "      <td>2325</td>\n",
              "      <td>1791</td>\n",
              "      <td>7680</td>\n",
              "      <td>Rabu</td>\n",
              "      <td>5</td>\n",
              "      <td>30</td>\n",
              "      <td>6</td>\n",
              "      <td>2021</td>\n",
              "    </tr>\n",
              "  </tbody>\n",
              "</table>\n",
              "</div>"
            ],
            "text/plain": [
              "            Jam  Total Pasien Harian  ...  Bulan  Tahun\n",
              "Tanggal                               ...              \n",
              "2021-06-26  8.0                 9271  ...      6   2021\n",
              "2021-06-27  8.0                 9394  ...      6   2021\n",
              "2021-06-28  8.0                 8348  ...      6   2021\n",
              "2021-06-29  8.0                 7379  ...      6   2021\n",
              "2021-06-30  8.0                 7680  ...      6   2021\n",
              "\n",
              "[5 rows x 12 columns]"
            ]
          },
          "metadata": {
            "tags": []
          },
          "execution_count": 61
        }
      ]
    },
    {
      "cell_type": "code",
      "metadata": {
        "id": "YBkGy6RHF4Ya"
      },
      "source": [
        "data_harian.to_excel(r'data harian.xlsx', index = False)"
      ],
      "execution_count": 62,
      "outputs": []
    },
    {
      "cell_type": "code",
      "metadata": {
        "colab": {
          "base_uri": "https://localhost:8080/",
          "height": 707
        },
        "id": "n3rbNAAU3aOA",
        "outputId": "3e4e92a3-a919-4fe1-98ac-ba6d22216687"
      },
      "source": [
        "plt.figure(figsize=[10, 10])\n",
        "sns.heatmap(data_harian[['Positif Harian', 'Sembuh Harian', 'Meninggal Harian', 'Self Isolation Harian', 'Masih Perawatan Harian']].corr(), annot=True)\n",
        "plt.show()"
      ],
      "execution_count": 63,
      "outputs": [
        {
          "output_type": "display_data",
          "data": {
            "image/png": "[encoded data removed]",
            "text/plain": [
              "<Figure size 720x720 with 2 Axes>"
            ]
          },
          "metadata": {
            "tags": [],
            "needs_background": "light"
          }
        }
      ]
    },
    {
      "cell_type": "code",
      "metadata": {
        "colab": {
          "base_uri": "https://localhost:8080/",
          "height": 297
        },
        "id": "5nC829jH8wdD",
        "outputId": "f78dc7bc-04c4-4f74-bcd6-17e0f7ac7864"
      },
      "source": [
        "data_harian[['Positif Harian', 'Sembuh Harian', 'Meninggal Harian', 'Self Isolation Harian', 'Masih Perawatan Harian']].describe()"
      ],
      "execution_count": 64,
      "outputs": [
        {
          "output_type": "execute_result",
          "data": {
            "text/html": [
              "<div>\n",
              "<style scoped>\n",
              "    .dataframe tbody tr th:only-of-type {\n",
              "        vertical-align: middle;\n",
              "    }\n",
              "\n",
              "    .dataframe tbody tr th {\n",
              "        vertical-align: top;\n",
              "    }\n",
              "\n",
              "    .dataframe thead th {\n",
              "        text-align: right;\n",
              "    }\n",
              "</style>\n",
              "<table border=\"1\" class=\"dataframe\">\n",
              "  <thead>\n",
              "    <tr style=\"text-align: right;\">\n",
              "      <th></th>\n",
              "      <th>Positif Harian</th>\n",
              "      <th>Sembuh Harian</th>\n",
              "      <th>Meninggal Harian</th>\n",
              "      <th>Self Isolation Harian</th>\n",
              "      <th>Masih Perawatan Harian</th>\n",
              "    </tr>\n",
              "  </thead>\n",
              "  <tbody>\n",
              "    <tr>\n",
              "      <th>count</th>\n",
              "      <td>487.000000</td>\n",
              "      <td>487.000000</td>\n",
              "      <td>487.000000</td>\n",
              "      <td>487.000000</td>\n",
              "      <td>487.000000</td>\n",
              "    </tr>\n",
              "    <tr>\n",
              "      <th>mean</th>\n",
              "      <td>1115.950719</td>\n",
              "      <td>954.708419</td>\n",
              "      <td>17.425051</td>\n",
              "      <td>98.211499</td>\n",
              "      <td>45.605749</td>\n",
              "    </tr>\n",
              "    <tr>\n",
              "      <th>std</th>\n",
              "      <td>1293.180643</td>\n",
              "      <td>963.252516</td>\n",
              "      <td>14.607133</td>\n",
              "      <td>655.783274</td>\n",
              "      <td>338.367602</td>\n",
              "    </tr>\n",
              "    <tr>\n",
              "      <th>min</th>\n",
              "      <td>0.000000</td>\n",
              "      <td>0.000000</td>\n",
              "      <td>0.000000</td>\n",
              "      <td>-3345.000000</td>\n",
              "      <td>-1271.000000</td>\n",
              "    </tr>\n",
              "    <tr>\n",
              "      <th>25%</th>\n",
              "      <td>197.500000</td>\n",
              "      <td>150.000000</td>\n",
              "      <td>6.000000</td>\n",
              "      <td>-83.500000</td>\n",
              "      <td>-66.500000</td>\n",
              "    </tr>\n",
              "    <tr>\n",
              "      <th>50%</th>\n",
              "      <td>845.000000</td>\n",
              "      <td>835.000000</td>\n",
              "      <td>15.000000</td>\n",
              "      <td>29.000000</td>\n",
              "      <td>20.000000</td>\n",
              "    </tr>\n",
              "    <tr>\n",
              "      <th>75%</th>\n",
              "      <td>1365.000000</td>\n",
              "      <td>1233.000000</td>\n",
              "      <td>22.000000</td>\n",
              "      <td>194.000000</td>\n",
              "      <td>121.000000</td>\n",
              "    </tr>\n",
              "    <tr>\n",
              "      <th>max</th>\n",
              "      <td>9394.000000</td>\n",
              "      <td>5757.000000</td>\n",
              "      <td>79.000000</td>\n",
              "      <td>4635.000000</td>\n",
              "      <td>1999.000000</td>\n",
              "    </tr>\n",
              "  </tbody>\n",
              "</table>\n",
              "</div>"
            ],
            "text/plain": [
              "       Positif Harian  ...  Masih Perawatan Harian\n",
              "count      487.000000  ...              487.000000\n",
              "mean      1115.950719  ...               45.605749\n",
              "std       1293.180643  ...              338.367602\n",
              "min          0.000000  ...            -1271.000000\n",
              "25%        197.500000  ...              -66.500000\n",
              "50%        845.000000  ...               20.000000\n",
              "75%       1365.000000  ...              121.000000\n",
              "max       9394.000000  ...             1999.000000\n",
              "\n",
              "[8 rows x 5 columns]"
            ]
          },
          "metadata": {
            "tags": []
          },
          "execution_count": 64
        }
      ]
    }
  ]
}